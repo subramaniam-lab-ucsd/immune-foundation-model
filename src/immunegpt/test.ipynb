{
 "cells": [
  {
   "cell_type": "code",
   "execution_count": 1,
   "id": "6822d51a",
   "metadata": {},
   "outputs": [
    {
     "name": "stderr",
     "output_type": "stream",
     "text": [
      "/home/s5srinivasan/immunegptenv/lib64/python3.9/site-packages/networkx/utils/backends.py:135: RuntimeWarning: networkx backend defined more than once: nx-loopback\n",
      "  backends.update(_get_backends(\"networkx.backends\"))\n"
     ]
    }
   ],
   "source": [
    "from config import ScImmuneConfig\n",
    "from model import ScImmuneModel\n",
    "from tokenizer import ScImmuneTokenizer\n",
    "import scanpy as sc\n",
    "import torch\n",
    "import os\n",
    "import shutil"
   ]
  },
  {
   "cell_type": "code",
   "execution_count": 2,
   "id": "38dc4b5d",
   "metadata": {},
   "outputs": [],
   "source": [
    "## Data for testing\n",
    "adata = sc.read_h5ad(\"../data/tdc_test.h5ad\")"
   ]
  },
  {
   "cell_type": "code",
   "execution_count": 3,
   "id": "3bf29401",
   "metadata": {},
   "outputs": [
    {
     "name": "stderr",
     "output_type": "stream",
     "text": [
      "Found local copy...\n"
     ]
    }
   ],
   "source": [
    "## Baseline comparisons against TDC/scGPT\n",
    "\n",
    "from tdc.multi_pred.anndata_dataset import DataLoader\n",
    "from tdc import tdc_hf_interface\n",
    "from tdc.model_server.tokenizers.scgpt import scGPTTokenizer\n",
    "\n",
    "# code for loading the model and performing inference\n",
    "hf_scgpt = tdc_hf_interface(\"scGPT\")\n",
    "hf_model = hf_scgpt.load()  # This line causes the model architecture to load, doesn't init weights\n",
    "hf_tokenizer = scGPTTokenizer()\n",
    "\n",
    "gene_ids = adata.var[\"feature_name\"].to_numpy(\n",
    ")  # Convert to numpy array\n",
    "hf_tokenized_data = hf_tokenizer.tokenize_cell_vectors(\n",
    "    adata.X.toarray(), gene_ids)\n",
    "mask = torch.tensor([x != 0 for x in hf_tokenized_data[0][1]],\n",
    "                    dtype=torch.bool)"
   ]
  },
  {
   "cell_type": "code",
   "execution_count": 6,
   "id": "7452a490",
   "metadata": {},
   "outputs": [
    {
     "data": {
      "text/plain": [
       "'my_model/pytorch_model.bin'"
      ]
     },
     "execution_count": 6,
     "metadata": {},
     "output_type": "execute_result"
    }
   ],
   "source": [
    "shutil.copy(\"config.json\", \"my_model/config.json\")\n",
    "shutil.copy(\"og_model.bin\", \"my_model/pytorch_model.bin\")"
   ]
  },
  {
   "cell_type": "code",
   "execution_count": 10,
   "id": "b16da846",
   "metadata": {},
   "outputs": [],
   "source": [
    "local_config = ScImmuneConfig.from_pretrained(\"my_model\")\n",
    "local_model = ScImmuneModel(local_config)"
   ]
  },
  {
   "cell_type": "code",
   "execution_count": 25,
   "id": "1c842f92",
   "metadata": {},
   "outputs": [],
   "source": [
    "first_embed = hf_model(hf_tokenized_data[0][0],\n",
    "                    hf_tokenized_data[0][1],\n",
    "                    attention_mask=mask)"
   ]
  },
  {
   "cell_type": "code",
   "execution_count": 24,
   "id": "653618f2",
   "metadata": {},
   "outputs": [
    {
     "data": {
      "text/plain": [
       "{'cell_emb': tensor([1.2225, 1.0517, 1.3044, 1.1659, 1.1479, 0.9370, 0.8854, 1.8631, 1.9937,\n",
       "         2.2208, 2.4938, 1.5020, 1.9730, 2.5062, 1.1897, 2.1543, 1.8686, 2.1040,\n",
       "         1.6692, 1.7494, 1.5820, 1.7571, 0.9076, 1.4901, 2.5606, 1.1853, 1.3456,\n",
       "         0.9170, 2.0407, 1.5476, 1.2854, 2.0094, 1.7730, 1.9526, 1.5450, 1.9492,\n",
       "         1.4542, 1.4714, 2.0037, 2.1761, 1.6333, 1.8255, 1.1388, 1.0792, 2.5271,\n",
       "         1.2863, 2.3151, 2.3752, 1.9964, 1.5517, 1.8000, 1.0310, 1.6113, 2.6180,\n",
       "         2.3280, 1.8876, 1.6821, 1.6289, 1.6642, 1.7535, 2.0101, 2.0095, 1.5700,\n",
       "         2.0387, 1.4440, 1.6441, 1.8095, 1.4961, 2.0734, 1.9103, 2.2052, 2.0578,\n",
       "         2.2273, 1.7719, 1.3840, 1.6547, 1.8500, 2.1238, 2.2093, 1.7713, 1.5513,\n",
       "         1.3088, 1.9829, 2.4071, 1.9448, 1.4242, 2.3028, 1.6511, 1.8012, 1.1830,\n",
       "         1.4206, 1.8770, 2.3037, 2.3876, 1.7685, 1.7213, 1.2172, 1.5175, 1.7909,\n",
       "         1.7421, 2.5178, 1.5436, 1.5642, 1.0365, 2.0117, 1.8707, 2.0977, 1.8510,\n",
       "         2.0234, 1.6194, 2.2861, 1.7874, 1.3774, 1.6156, 1.7025, 1.5276, 1.9007,\n",
       "         1.3392, 0.9292, 1.6613, 1.5441, 1.6872, 1.6407, 1.4803, 2.6414, 1.3781,\n",
       "         1.3031, 1.2534, 1.4320, 2.0223, 1.9768, 2.3084, 1.2817, 2.3176, 2.2232,\n",
       "         2.2702, 1.4506, 1.7392, 2.0665, 1.9437, 1.5154, 1.1701, 1.4564, 1.9051],\n",
       "        grad_fn=<SelectBackward0>),\n",
       " 'pred': tensor([ 0.0175,  0.0320,  0.0266, -0.0222, -0.0039,  0.0314,  0.0359, -0.0134,\n",
       "          0.0403,  0.0080, -0.0025,  0.0299,  0.0200,  0.0442, -0.0045,  0.0119,\n",
       "          0.0288,  0.0190,  0.0391,  0.0340, -0.0143,  0.0168,  0.0091,  0.0122,\n",
       "          0.0261, -0.0072,  0.0225,  0.0019, -0.0219,  0.0036,  0.0185, -0.0014,\n",
       "          0.0206,  0.0029,  0.0219,  0.0195,  0.0049,  0.0239,  0.0139,  0.0216,\n",
       "          0.0283,  0.0091,  0.0240,  0.0255,  0.0089,  0.0147, -0.0046,  0.0163,\n",
       "          0.0037,  0.0252,  0.0120, -0.0011, -0.0186,  0.0260,  0.0066,  0.0088,\n",
       "          0.0365,  0.0016,  0.0100, -0.0203, -0.0044,  0.0041,  0.0142, -0.0201,\n",
       "          0.0194, -0.0017, -0.0170,  0.0127, -0.0229,  0.0056,  0.0014,  0.0050,\n",
       "         -0.0350,  0.0185, -0.0043,  0.0129,  0.0182, -0.0071,  0.0400,  0.0229,\n",
       "          0.0110,  0.0033,  0.0337, -0.0105,  0.0177,  0.0189, -0.0275, -0.0005,\n",
       "          0.0183,  0.0311,  0.0140,  0.0195, -0.0072,  0.0478,  0.0186, -0.0281,\n",
       "         -0.0065,  0.0058,  0.0228, -0.0077,  0.0020,  0.0085,  0.0076,  0.0180,\n",
       "          0.0121,  0.0216,  0.0138,  0.0068, -0.0156,  0.0154, -0.0031,  0.0063,\n",
       "          0.0306,  0.0239,  0.0088,  0.0139,  0.0056,  0.0018,  0.0128,  0.0109,\n",
       "          0.0037,  0.0251,  0.0096,  0.0367, -0.0102, -0.0018, -0.0035, -0.0008,\n",
       "          0.0130,  0.0091,  0.0273,  0.0482,  0.0371,  0.0058, -0.0162, -0.0073,\n",
       "          0.0143,  0.0185, -0.0225,  0.0058, -0.0128, -0.0059,  0.0270,  0.0096],\n",
       "        grad_fn=<SqueezeBackward1>)}"
      ]
     },
     "execution_count": 24,
     "metadata": {},
     "output_type": "execute_result"
    }
   ],
   "source": [
    "first_embed"
   ]
  }
 ],
 "metadata": {
  "kernelspec": {
   "display_name": "immunegptenv",
   "language": "python",
   "name": "python3"
  },
  "language_info": {
   "codemirror_mode": {
    "name": "ipython",
    "version": 3
   },
   "file_extension": ".py",
   "mimetype": "text/x-python",
   "name": "python",
   "nbconvert_exporter": "python",
   "pygments_lexer": "ipython3",
   "version": "3.9.21"
  }
 },
 "nbformat": 4,
 "nbformat_minor": 5
}
