{
 "cells": [
  {
   "cell_type": "markdown",
   "id": "ce7d6684",
   "metadata": {},
   "source": [
    "# Immune Data Embeddings"
   ]
  },
  {
   "cell_type": "code",
   "execution_count": 1,
   "id": "6822d51a",
   "metadata": {},
   "outputs": [
    {
     "name": "stderr",
     "output_type": "stream",
     "text": [
      "/home/s5srinivasan/immunegptenv/lib64/python3.9/site-packages/networkx/utils/backends.py:135: RuntimeWarning: networkx backend defined more than once: nx-loopback\n",
      "  backends.update(_get_backends(\"networkx.backends\"))\n"
     ]
    }
   ],
   "source": [
    "from config import ScImmuneConfig\n",
    "from model import ScImmuneModel\n",
    "from tokenizer import ScImmuneTokenizer # refactored version\n",
    "import torch\n",
    "import os\n",
    "import shutil\n",
    "from utils import generate_metadata_embeddings, generate_metadata_tokens, assign_metadata_embeddings\n",
    "from gensim.models import Word2Vec\n",
    "import anndata as ad\n",
    "import pandas as pd\n",
    "import scanpy as sc\n",
    "import json"
   ]
  },
  {
   "cell_type": "markdown",
   "id": "3d77f6a2",
   "metadata": {},
   "source": [
    "## Modify tokens and embeddings"
   ]
  },
  {
   "cell_type": "code",
   "execution_count": 2,
   "id": "7452a490",
   "metadata": {},
   "outputs": [
    {
     "data": {
      "text/plain": [
       "'scimmune-model/pytorch_model.bin'"
      ]
     },
     "execution_count": 2,
     "metadata": {},
     "output_type": "execute_result"
    }
   ],
   "source": [
    "shutil.copy(\"config.json\", \"scimmune-model/config.json\")\n",
    "shutil.copy(\"og_model.bin\", \"scimmune-model/pytorch_model.bin\")"
   ]
  },
  {
   "cell_type": "code",
   "execution_count": 6,
   "id": "b16da846",
   "metadata": {},
   "outputs": [],
   "source": [
    "local_config = ScImmuneConfig.from_pretrained(\"scimmune-model\") # load config locally\n",
    "local_model = ScImmuneModel(local_config) # load model locally\n",
    "local_tokenizer = ScImmuneTokenizer(vocab_file=\"vocab_with_metadata.json\") # initialize tokenizer"
   ]
  },
  {
   "cell_type": "code",
   "execution_count": 12,
   "id": "5db3bcfd",
   "metadata": {},
   "outputs": [],
   "source": [
    "new_vocab_len = len(local_tokenizer)"
   ]
  },
  {
   "cell_type": "code",
   "execution_count": null,
   "id": "0203385e",
   "metadata": {},
   "outputs": [
    {
     "data": {
      "text/plain": [
       "Embedding(60926, 512, padding_idx=0)"
      ]
     },
     "execution_count": 24,
     "metadata": {},
     "output_type": "execute_result"
    }
   ],
   "source": [
    "local_model._resize_token_embeddings(new_vocab_len) # use the \"_\" before the method name, that actually resizes it"
   ]
  },
  {
   "cell_type": "markdown",
   "id": "ab0e2977",
   "metadata": {},
   "source": [
    "## Re-initialize metadata tokens with Node2Vec vectors"
   ]
  },
  {
   "cell_type": "code",
   "execution_count": 26,
   "id": "10b0f4f8",
   "metadata": {},
   "outputs": [],
   "source": [
    "embedding_layer = local_model.get_input_embeddings()"
   ]
  },
  {
   "cell_type": "code",
   "execution_count": 34,
   "id": "5d7e497b",
   "metadata": {},
   "outputs": [],
   "source": [
    "with open(\"vocab_with_metadata.json\", \"r\") as f:\n",
    "    vocab_with_metadata_dict = json.load(f) # load this as a dict for lookup"
   ]
  }
 ],
 "metadata": {
  "kernelspec": {
   "display_name": "immunegptenv",
   "language": "python",
   "name": "python3"
  },
  "language_info": {
   "codemirror_mode": {
    "name": "ipython",
    "version": 3
   },
   "file_extension": ".py",
   "mimetype": "text/x-python",
   "name": "python",
   "nbconvert_exporter": "python",
   "pygments_lexer": "ipython3",
   "version": "3.9.21"
  }
 },
 "nbformat": 4,
 "nbformat_minor": 5
}
