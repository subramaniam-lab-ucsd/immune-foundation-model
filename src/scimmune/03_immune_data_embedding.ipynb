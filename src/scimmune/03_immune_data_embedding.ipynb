{
 "cells": [
  {
   "cell_type": "markdown",
   "id": "ce7d6684",
   "metadata": {},
   "source": [
    "# Immune Data Embeddings"
   ]
  },
  {
   "cell_type": "code",
   "execution_count": 63,
   "id": "6822d51a",
   "metadata": {},
   "outputs": [],
   "source": [
    "from config import ScImmuneConfig\n",
    "from model import ScImmuneModel\n",
    "from tokenizer import ScImmuneTokenizer # refactored version\n",
    "\n",
    "import torch\n",
    "import os\n",
    "import shutil\n",
    "from utils import generate_metadata_embeddings, generate_metadata_tokens, assign_ontology_embeddings\n",
    "from gensim.models import Word2Vec\n",
    "import anndata as ad\n",
    "import pandas as pd\n",
    "import scanpy as sc\n",
    "import json"
   ]
  },
  {
   "cell_type": "markdown",
   "id": "3d77f6a2",
   "metadata": {},
   "source": [
    "## Modify tokens and embeddings"
   ]
  },
  {
   "cell_type": "code",
   "execution_count": 64,
   "id": "7452a490",
   "metadata": {},
   "outputs": [
    {
     "data": {
      "text/plain": [
       "'scimmune-model/pytorch_model.bin'"
      ]
     },
     "execution_count": 64,
     "metadata": {},
     "output_type": "execute_result"
    }
   ],
   "source": [
    "shutil.copy(\"config.json\", \"scimmune-model/config.json\")\n",
    "shutil.copy(\"og_model.bin\", \"scimmune-model/pytorch_model.bin\")"
   ]
  },
  {
   "cell_type": "code",
   "execution_count": 65,
   "id": "b16da846",
   "metadata": {},
   "outputs": [],
   "source": [
    "local_config = ScImmuneConfig.from_pretrained(\"scimmune-model\") # load config locally\n",
    "local_model = ScImmuneModel(local_config) # load model locally\n",
    "local_tokenizer = ScImmuneTokenizer(vocab_file=\"vocab_with_metadata.json\") # initialize tokenizer"
   ]
  },
  {
   "cell_type": "code",
   "execution_count": 66,
   "id": "db3af41b",
   "metadata": {},
   "outputs": [
    {
     "data": {
      "text/plain": [
       "Embedding(61048, 512, padding_idx=0)"
      ]
     },
     "execution_count": 66,
     "metadata": {},
     "output_type": "execute_result"
    }
   ],
   "source": [
    "len(local_tokenizer) # 350 new metadata tokens -> 60698 + 350 = 61048\n",
    "new_vocab_len = len(local_tokenizer)\n",
    "local_model.resize_token_embeddings(new_vocab_len)"
   ]
  },
  {
   "cell_type": "code",
   "execution_count": 67,
   "id": "b4f94c95",
   "metadata": {},
   "outputs": [
    {
     "data": {
      "text/plain": [
       "ScImmuneModel(\n",
       "  (gene_encoder): ModuleDict(\n",
       "    (embedding): Embedding(61048, 512, padding_idx=0)\n",
       "    (enc_norm): LayerNorm((512,), eps=1e-05, elementwise_affine=True)\n",
       "  )\n",
       "  (value_encoder): ModuleDict(\n",
       "    (linear1): Linear(in_features=1, out_features=512, bias=True)\n",
       "    (linear2): Linear(in_features=512, out_features=512, bias=True)\n",
       "    (norm): LayerNorm((512,), eps=1e-05, elementwise_affine=True)\n",
       "    (dropout): Dropout(p=0.0, inplace=False)\n",
       "  )\n",
       "  (transformer): TransformerEncoder(\n",
       "    (layers): ModuleList(\n",
       "      (0-11): 12 x TransformerEncoderLayer(\n",
       "        (self_attn): MultiheadAttention(\n",
       "          (out_proj): NonDynamicallyQuantizableLinear(in_features=512, out_features=512, bias=True)\n",
       "        )\n",
       "        (linear1): Linear(in_features=512, out_features=512, bias=True)\n",
       "        (dropout): Dropout(p=0.0, inplace=False)\n",
       "        (linear2): Linear(in_features=512, out_features=512, bias=True)\n",
       "        (norm1): LayerNorm((512,), eps=1e-05, elementwise_affine=True)\n",
       "        (norm2): LayerNorm((512,), eps=1e-05, elementwise_affine=True)\n",
       "        (dropout1): Dropout(p=0.0, inplace=False)\n",
       "        (dropout2): Dropout(p=0.0, inplace=False)\n",
       "      )\n",
       "    )\n",
       "  )\n",
       "  (expr_decoder): ExprDecoder(\n",
       "    (fc): Sequential(\n",
       "      (0): Linear(in_features=512, out_features=512, bias=True)\n",
       "      (1): LeakyReLU(negative_slope=0.01)\n",
       "      (2): Linear(in_features=512, out_features=512, bias=True)\n",
       "      (3): LeakyReLU(negative_slope=0.01)\n",
       "      (4): Linear(in_features=512, out_features=1, bias=True)\n",
       "    )\n",
       "  )\n",
       ")"
      ]
     },
     "execution_count": 67,
     "metadata": {},
     "output_type": "execute_result"
    }
   ],
   "source": [
    "local_model # inspect full model"
   ]
  },
  {
   "cell_type": "markdown",
   "id": "ab0e2977",
   "metadata": {},
   "source": [
    "## Re-initialize metadata tokens with Node2Vec vectors"
   ]
  },
  {
   "cell_type": "code",
   "execution_count": 68,
   "id": "10b0f4f8",
   "metadata": {},
   "outputs": [
    {
     "data": {
      "text/plain": [
       "Embedding(61048, 512, padding_idx=0)"
      ]
     },
     "execution_count": 68,
     "metadata": {},
     "output_type": "execute_result"
    }
   ],
   "source": [
    "embedding_layer = local_model.get_input_embeddings()\n",
    "embedding_layer"
   ]
  },
  {
   "cell_type": "code",
   "execution_count": 69,
   "id": "50366a58",
   "metadata": {},
   "outputs": [],
   "source": [
    "# Set Node2Vec model folder path\n",
    "\n",
    "n2vmodel_path = \"../utils/obo_models\"\n",
    "\n",
    "# Load all embedding vectors\n",
    "doid_embeddings = Word2Vec.load(f\"{n2vmodel_path}/doid_node2vec.model\")\n",
    "cl_embeddings = Word2Vec.load(f\"{n2vmodel_path}/cl_node2vec.model\")\n",
    "hancestro_embeddings = Word2Vec.load(f\"{n2vmodel_path}/hancestro_node2vec.model\")\n",
    "hsapdv_embeddings = Word2Vec.load(f\"{n2vmodel_path}/hsapdv_node2vec.model\")\n",
    "uberon_embeddings = Word2Vec.load(f\"{n2vmodel_path}/uberon_node2vec.model\")"
   ]
  },
  {
   "cell_type": "code",
   "execution_count": 70,
   "id": "5d7e497b",
   "metadata": {},
   "outputs": [],
   "source": [
    "with open(\"vocab_with_metadata.json\", \"r\") as f:\n",
    "    vocab_with_metadata_dict = json.load(f) # load this as a dict for lookup"
   ]
  },
  {
   "cell_type": "code",
   "execution_count": 71,
   "id": "cb7e0566",
   "metadata": {},
   "outputs": [
    {
     "name": "stdout",
     "output_type": "stream",
     "text": [
      "[WARN] No Node2Vec embedding found for CL:0010003, skipping.\n",
      "[WARN] No Node2Vec embedding found for unknown, skipping.\n",
      "[INFO] Assigned 226 Node2Vec embeddings for tag <cell_type=...>\n"
     ]
    }
   ],
   "source": [
    "# Assign cell type ontology embeddings\n",
    "assign_ontology_embeddings(\n",
    "    tokenizer=local_tokenizer,\n",
    "    model=local_model,\n",
    "    node2vec_model_path=f\"{n2vmodel_path}/cl_node2vec.model\",\n",
    "    tag=\"cell_type\"\n",
    ")"
   ]
  },
  {
   "cell_type": "code",
   "execution_count": 72,
   "id": "0b9be1f2",
   "metadata": {},
   "outputs": [
    {
     "name": "stdout",
     "output_type": "stream",
     "text": [
      "[WARN] No Node2Vec embedding found for unknown, skipping.\n",
      "[INFO] Assigned 14 Node2Vec embeddings for tag <self_reported_ethnicity=...>\n"
     ]
    }
   ],
   "source": [
    "# Assign self reported ethinicity ontology embeddings\n",
    "assign_ontology_embeddings(\n",
    "    tokenizer=local_tokenizer,\n",
    "    model=local_model,\n",
    "    node2vec_model_path=f\"{n2vmodel_path}/hancestro_node2vec.model\",\n",
    "    tag=\"self_reported_ethnicity\"\n",
    ")"
   ]
  },
  {
   "cell_type": "code",
   "execution_count": 73,
   "id": "abd13542",
   "metadata": {},
   "outputs": [
    {
     "name": "stdout",
     "output_type": "stream",
     "text": [
      "[INFO] Assigned 99 Node2Vec embeddings for tag <development_stage=...>\n"
     ]
    }
   ],
   "source": [
    "# Assign human development stage ontology embeddings\n",
    "assign_ontology_embeddings(\n",
    "    tokenizer=local_tokenizer,\n",
    "    model=local_model,\n",
    "    node2vec_model_path=f\"{n2vmodel_path}/hsapdv_node2vec.model\",\n",
    "    tag=\"development_stage\"\n",
    ")"
   ]
  },
  {
   "cell_type": "code",
   "execution_count": 74,
   "id": "32e8a966",
   "metadata": {},
   "outputs": [
    {
     "name": "stdout",
     "output_type": "stream",
     "text": [
      "[INFO] Assigned 1 Node2Vec embeddings for tag <disease=...>\n"
     ]
    }
   ],
   "source": [
    "# # Assign disease ontology embeddings - only for \"normal\" -> assign root embeddings\n",
    "assign_ontology_embeddings(\n",
    "    tokenizer=local_tokenizer,\n",
    "    model=local_model,\n",
    "    node2vec_model_path=f\"{n2vmodel_path}/doid_node2vec.model\",\n",
    "    tag=\"disease\"\n",
    ")"
   ]
  },
  {
   "cell_type": "code",
   "execution_count": 75,
   "id": "51c2a1f8",
   "metadata": {},
   "outputs": [
    {
     "name": "stdout",
     "output_type": "stream",
     "text": [
      "[INFO] Assigned 5 Node2Vec embeddings for tag <tissue_general=...>\n"
     ]
    }
   ],
   "source": [
    "# Assign tissue (general) ontology embeddings\n",
    "assign_ontology_embeddings(\n",
    "    tokenizer=local_tokenizer,\n",
    "    model=local_model,\n",
    "    node2vec_model_path=f\"{n2vmodel_path}/uberon_node2vec.model\",\n",
    "    tag=\"tissue_general\"\n",
    ")"
   ]
  },
  {
   "cell_type": "code",
   "execution_count": 76,
   "id": "dd08d41a",
   "metadata": {},
   "outputs": [
    {
     "name": "stdout",
     "output_type": "stream",
     "text": [
      "<self_reported_ethnicity=HANCESTRO:0014>\n",
      "60929\n"
     ]
    }
   ],
   "source": [
    "# Check at random \n",
    "\n",
    "token = \"<self_reported_ethnicity=HANCESTRO:0014>\"\n",
    "oid = token[1:-1].split(\"=\")[1] # get OID\n",
    "token_id = local_tokenizer.convert_tokens_to_ids(token)\n",
    "\n",
    "print(token)\n",
    "print(token_id)\n",
    "\n",
    "n2v_embedding = hancestro_embeddings.wv[oid]\n",
    "\n",
    "model_embedding = embedding_layer.weight.data[token_id]"
   ]
  },
  {
   "cell_type": "code",
   "execution_count": 77,
   "id": "577a5e02",
   "metadata": {},
   "outputs": [
    {
     "data": {
      "text/plain": [
       "tensor([ 0.0497,  0.0331,  0.1329,  0.1752, -0.4556, -0.2980,  0.2807,  0.0052,\n",
       "        -0.0163, -0.2098,  0.1667, -0.0566,  0.3336, -0.1207,  0.2712,  0.0131,\n",
       "         0.0078,  0.4117, -0.0967,  0.3313, -0.1634, -0.0084,  0.1873, -0.2433,\n",
       "        -0.0813,  0.1544,  0.2501,  0.0731, -0.0667, -0.5940,  0.2701, -0.5355,\n",
       "        -0.0975, -0.2299,  0.0164, -0.2136, -0.0139, -0.1354, -0.4513, -0.4926,\n",
       "        -0.4118,  0.2164, -0.2083, -0.1436,  0.5083,  0.1289,  0.2874, -0.4932,\n",
       "         0.3537,  0.0788,  0.3032, -0.2332,  0.4344,  0.0944, -0.0626,  0.1657,\n",
       "         0.0728,  0.0890, -0.1415, -0.1978,  0.0555, -0.4609, -0.2341,  0.2670,\n",
       "        -0.1322,  0.3451,  0.2069, -0.0756, -0.1633,  0.0342,  0.1766, -0.1364,\n",
       "        -0.1535, -0.6566,  0.4714, -0.0353,  0.1606,  0.1889, -0.1495,  0.2821,\n",
       "         0.4582, -0.0344,  0.1385,  0.7225, -0.1365, -0.0119,  0.2960, -0.1565,\n",
       "         0.0286,  0.1415,  0.1369, -0.1873,  0.4340, -0.0682,  0.3822,  0.1592,\n",
       "        -0.1205, -0.0395, -0.0531,  0.2361, -0.0847,  0.2033, -0.1169, -0.1836,\n",
       "         0.0620, -0.0365,  0.0284, -0.2520, -0.1803, -0.4643, -0.0913, -0.1312,\n",
       "         0.2578,  0.2496, -0.1398,  0.1022,  0.0668,  0.4457, -0.0365, -0.1272,\n",
       "         0.3288,  0.3861,  0.5058, -0.1040,  0.4409, -0.2890,  0.2758, -0.1496,\n",
       "         0.1751, -0.0960,  0.4256, -0.3385, -0.1598,  0.2698, -0.2520, -0.0866,\n",
       "        -0.2741, -0.2737, -0.1691, -0.0208,  0.1689, -0.1594,  0.1602, -0.1130,\n",
       "        -0.4620,  0.1469,  0.4736, -0.2311, -0.1512,  0.3618,  0.2595, -0.0968,\n",
       "        -0.0748, -0.0510, -0.2559,  0.4962, -0.1469, -0.0342,  0.2078, -0.0992,\n",
       "         0.2909,  0.2293, -0.0453,  0.0022,  0.5525,  0.0634,  0.3855,  0.3241,\n",
       "         0.5007,  0.2734, -0.1735, -0.3726, -0.0664,  0.2372, -0.2343,  0.1300,\n",
       "        -0.4469, -0.0389,  0.1489, -0.0640, -0.4526, -0.1596,  0.1369, -0.4154,\n",
       "         0.2891,  0.0268, -0.3825, -0.2727, -0.3734, -0.4419, -0.0339, -0.0564,\n",
       "         0.3905, -0.3319, -0.2631, -0.2951, -0.4619, -0.0555, -0.0920, -0.4259,\n",
       "        -0.5172, -0.2318, -0.5708, -0.1035,  0.1750,  0.2996, -0.3830,  0.2173,\n",
       "        -0.1213,  0.3392, -0.1183, -0.1318,  0.5365, -0.1671,  0.1636, -0.1597,\n",
       "         0.3644,  0.4911, -0.1760, -0.3120, -0.0131,  0.5320,  0.3797, -0.1289,\n",
       "         0.0614,  0.2566,  0.1964, -0.1937,  0.0780, -0.0359,  0.3684, -0.2697,\n",
       "        -0.3084, -0.1708,  0.0462,  0.1028, -0.0920, -0.3283,  0.3102,  0.2883,\n",
       "         0.3230, -0.4599, -0.0015,  0.1069,  0.0033, -0.1052, -0.0037,  0.0138,\n",
       "        -0.0804, -0.1463, -0.0801,  0.1656,  0.0075,  0.0865, -0.2630, -0.0789,\n",
       "         0.0021, -0.0689, -0.1752,  0.2012,  0.4685, -0.0203,  0.1482, -0.1395,\n",
       "        -0.1585,  0.1018, -0.0829,  0.0094, -0.6511, -0.3750,  0.4691,  0.6508,\n",
       "         0.1379,  0.1273,  0.2358,  0.1351, -0.0492, -0.1065, -0.3934, -0.6417,\n",
       "         0.1358, -0.3394, -0.4014,  0.0490,  0.1814, -0.1866,  0.0886, -0.5304,\n",
       "        -0.0556,  0.1020,  0.1823,  0.1349,  0.1025, -0.0869,  0.3550, -0.3635,\n",
       "        -0.1294,  0.5911,  0.6029, -0.1729,  0.2740, -0.1101, -0.1088, -0.0564,\n",
       "        -0.3328, -0.0223,  0.1672,  0.2701,  0.2105, -0.4114,  0.2915, -0.1186,\n",
       "         0.4019,  0.0244, -0.2565, -0.0791,  0.0990,  0.0357,  0.0359,  0.1314,\n",
       "         0.1289, -0.0363, -0.0211,  0.3857,  0.1343,  0.3444, -0.3714, -0.0082,\n",
       "        -0.2390, -0.1540, -0.6181, -0.3529, -0.6052, -0.0037, -0.1676, -0.0714,\n",
       "         0.4026,  0.0267,  0.2705,  0.5422,  0.4999,  0.0868,  0.5863, -0.1018,\n",
       "         0.4618,  0.0516,  0.0157, -0.2922,  0.1515, -0.0784,  0.2728,  0.1640,\n",
       "        -0.1391, -0.2915, -0.1338, -0.0310, -0.1568, -0.0369, -0.1220,  0.0935,\n",
       "        -0.0115,  0.1496,  0.0276,  0.1239, -0.4039, -0.2370,  0.1883,  0.1012,\n",
       "         0.0163, -0.0448,  0.0554, -0.4306,  0.3852, -0.1552, -0.2540, -0.0779,\n",
       "        -0.1197,  0.2955,  0.1171, -0.4199,  0.0799, -0.0616,  0.2633,  0.4044,\n",
       "        -0.2315, -0.1634,  0.1465,  0.2177, -0.0683, -0.4122,  0.0070,  0.0627,\n",
       "        -0.2026, -0.3856,  0.4004, -0.2069,  0.1764,  0.4002,  0.6163,  0.1292,\n",
       "        -0.1781, -0.3479, -0.0734, -0.0113,  0.2466,  0.0590, -0.0767, -0.4628,\n",
       "        -0.0778, -0.1588, -0.2087,  0.1421, -0.0671, -0.0465, -0.4393,  0.1431,\n",
       "         0.2919,  0.1016,  0.2350,  0.0274,  0.3455,  0.0477, -0.1058, -0.1899,\n",
       "         0.2646, -0.1986,  0.3654,  0.2341,  0.3595,  0.0497, -0.0420,  0.0390,\n",
       "        -0.2770,  0.1750,  0.4007, -0.1941,  0.0481,  0.2547,  0.1570, -0.1700,\n",
       "         0.1935,  0.0814, -0.6573, -0.0025, -0.3535,  0.2647,  0.1429, -0.2958,\n",
       "         0.2945,  0.0716,  0.1610,  0.1112, -0.2297, -0.0180,  0.1760,  0.0696,\n",
       "        -0.2367, -0.0815, -0.2637, -0.4242, -0.3155, -0.1828, -0.2371,  0.0074,\n",
       "        -0.4023, -0.2464,  0.2022,  0.5775,  0.4969,  0.5667,  0.3945,  0.0827,\n",
       "         0.4422,  0.3075, -0.1601,  0.0728, -0.1251,  0.2334, -0.0381,  0.0907,\n",
       "        -0.3381,  0.1246, -0.1297,  0.1204, -0.0547, -0.1829, -0.0910,  0.2189,\n",
       "         0.1215, -0.2050,  0.0378, -0.1832,  0.1298, -0.1772,  0.4097, -0.2884,\n",
       "        -0.1725,  0.4529,  0.1209, -0.3162,  0.3279,  0.3877,  0.3269, -0.0574,\n",
       "        -0.1033,  0.1400, -0.4496, -0.0448, -0.3327,  0.1271, -0.4702,  0.0478])"
      ]
     },
     "execution_count": 77,
     "metadata": {},
     "output_type": "execute_result"
    }
   ],
   "source": [
    "model_embedding"
   ]
  },
  {
   "cell_type": "code",
   "execution_count": 78,
   "id": "d1f1b9c7",
   "metadata": {},
   "outputs": [
    {
     "data": {
      "text/plain": [
       "array([ 0.04970636,  0.03314682,  0.13287885,  0.17518593, -0.4556167 ,\n",
       "       -0.29798904,  0.28066406,  0.00518188, -0.01629672, -0.20980982,\n",
       "        0.16674723, -0.05661917,  0.3335988 , -0.1206904 ,  0.271185  ,\n",
       "        0.01309168,  0.00780445,  0.41172418, -0.09669392,  0.33133084,\n",
       "       -0.16342807, -0.008433  ,  0.1873368 , -0.24328186, -0.08125986,\n",
       "        0.15443397,  0.25009   ,  0.07314015, -0.06665672, -0.5940084 ,\n",
       "        0.2701056 , -0.5355188 , -0.09754764, -0.22986086,  0.01638571,\n",
       "       -0.21357164, -0.01386153, -0.13539767, -0.45130175, -0.4925683 ,\n",
       "       -0.41183546,  0.2163881 , -0.2082856 , -0.14359395,  0.508321  ,\n",
       "        0.12891372,  0.28744298, -0.4931968 ,  0.35366276,  0.07875969,\n",
       "        0.30317426, -0.23324612,  0.4343534 ,  0.09436501, -0.06263129,\n",
       "        0.16574658,  0.07284207,  0.08897053, -0.14151163, -0.1977543 ,\n",
       "        0.05552471, -0.4609493 , -0.23409963,  0.26699138, -0.13215336,\n",
       "        0.3451376 ,  0.20689224, -0.07558941, -0.16332223,  0.03421644,\n",
       "        0.17656155, -0.136392  , -0.15349309, -0.6565561 ,  0.47135755,\n",
       "       -0.03532204,  0.16057417,  0.18889688, -0.14945665,  0.2821228 ,\n",
       "        0.4581949 , -0.03440808,  0.13847898,  0.7225053 , -0.13652132,\n",
       "       -0.01193211,  0.29596084, -0.15648818,  0.02862971,  0.14145975,\n",
       "        0.13689965, -0.1872585 ,  0.43402866, -0.06816924,  0.38223094,\n",
       "        0.15918396, -0.12053864, -0.03954614, -0.05306661,  0.23613353,\n",
       "       -0.08466617,  0.20329258, -0.11689144, -0.18363906,  0.06203712,\n",
       "       -0.03653568,  0.02841658, -0.25200948, -0.18033701, -0.4643395 ,\n",
       "       -0.09134863, -0.13122052,  0.25778967,  0.2495835 , -0.13984333,\n",
       "        0.10216811,  0.06677901,  0.44573098, -0.03647463, -0.12721372,\n",
       "        0.32876596,  0.38610584,  0.5058037 , -0.10400462,  0.4408872 ,\n",
       "       -0.2889999 ,  0.27578887, -0.14964755,  0.17508191, -0.0960473 ,\n",
       "        0.42558613, -0.3385    , -0.15977232,  0.26976502, -0.25203136,\n",
       "       -0.08655041, -0.27407748, -0.27372563, -0.16914901, -0.020802  ,\n",
       "        0.16888462, -0.15936708,  0.16016188, -0.11298313, -0.4619603 ,\n",
       "        0.14689694,  0.47356293, -0.2311147 , -0.15118818,  0.36177287,\n",
       "        0.2595469 , -0.09682722, -0.07483185, -0.05102045, -0.25591278,\n",
       "        0.49618143, -0.1468975 , -0.03418481,  0.20777921, -0.09915636,\n",
       "        0.29094937,  0.22933897, -0.04527547,  0.00222661,  0.55254626,\n",
       "        0.06339902,  0.38549128,  0.3241446 ,  0.5007493 ,  0.27342048,\n",
       "       -0.17351285, -0.3726452 , -0.0664266 ,  0.23719011, -0.23431532,\n",
       "        0.1299578 , -0.44687372, -0.03888971,  0.1489278 , -0.06397334,\n",
       "       -0.45264792, -0.15964396,  0.1369042 , -0.4154331 ,  0.2890942 ,\n",
       "        0.0267766 , -0.38249114, -0.27274814, -0.37344864, -0.4419123 ,\n",
       "       -0.03389025, -0.05644333,  0.3904816 , -0.3319099 , -0.26307574,\n",
       "       -0.29514903, -0.46194756, -0.05551678, -0.09197867, -0.4258642 ,\n",
       "       -0.51717335, -0.23182179, -0.5707744 , -0.10351826,  0.17501801,\n",
       "        0.29962072, -0.38299337,  0.21726577, -0.12134121,  0.33919677,\n",
       "       -0.11826597, -0.1318262 ,  0.53647757, -0.1670569 ,  0.16362227,\n",
       "       -0.15970173,  0.36438647,  0.49105546, -0.17596519, -0.3119779 ,\n",
       "       -0.01313114,  0.53197515,  0.3797296 , -0.12890422,  0.06138223,\n",
       "        0.25656158,  0.1963742 , -0.193713  ,  0.07802657, -0.03585488,\n",
       "        0.36842644, -0.2697409 , -0.30835682, -0.17076938,  0.04621854,\n",
       "        0.10283508, -0.09199418, -0.32832187,  0.3101643 ,  0.28825736,\n",
       "        0.32295913, -0.45988908, -0.00153209,  0.10693187,  0.00329836,\n",
       "       -0.10521956, -0.00371289,  0.01378941, -0.08044386, -0.14631207,\n",
       "       -0.08012979,  0.16555746,  0.00752153,  0.08651187, -0.26300547,\n",
       "       -0.07894944,  0.00213948, -0.06892849, -0.17520887,  0.20119812,\n",
       "        0.468497  , -0.02029094,  0.14823774, -0.13952328, -0.15854506,\n",
       "        0.10183032, -0.08289482,  0.00937619, -0.6510753 , -0.3749884 ,\n",
       "        0.46909472,  0.6507866 ,  0.1378745 ,  0.12726004,  0.23583162,\n",
       "        0.13512002, -0.0492386 , -0.10654049, -0.39339435, -0.64168   ,\n",
       "        0.13583468, -0.33940512, -0.40141416,  0.049028  ,  0.18140244,\n",
       "       -0.18658291,  0.08860885, -0.5303952 , -0.05558867,  0.10195252,\n",
       "        0.18230806,  0.13490568,  0.10246129, -0.08687717,  0.35497317,\n",
       "       -0.36345226, -0.12944382,  0.5911029 ,  0.6028727 , -0.17293586,\n",
       "        0.27400565, -0.11012558, -0.10876489, -0.05640223, -0.33281064,\n",
       "       -0.02234963,  0.16717984,  0.2700616 ,  0.21047595, -0.41140828,\n",
       "        0.29151407, -0.11855645,  0.40192345,  0.0243918 , -0.25654137,\n",
       "       -0.07908292,  0.09902925,  0.03573506,  0.03585263,  0.13144608,\n",
       "        0.12887831, -0.03633665, -0.02108958,  0.38574675,  0.13426854,\n",
       "        0.34439674, -0.37136117, -0.00824064, -0.2390153 , -0.15395315,\n",
       "       -0.61808884, -0.3529079 , -0.6052454 , -0.0037164 , -0.16761275,\n",
       "       -0.07139878,  0.40263352,  0.02666171,  0.2704994 ,  0.5421583 ,\n",
       "        0.49994057,  0.08677674,  0.5863064 , -0.10176328,  0.46181023,\n",
       "        0.051555  ,  0.01572948, -0.29216665,  0.15151371, -0.07842852,\n",
       "        0.2728305 ,  0.1639712 , -0.13911012, -0.29152516, -0.13383919,\n",
       "       -0.03103266, -0.1567599 , -0.03694499, -0.12195565,  0.0935436 ,\n",
       "       -0.01150998,  0.14961092,  0.02762712,  0.12394299, -0.40394336,\n",
       "       -0.23695713,  0.18834178,  0.101216  ,  0.016314  , -0.04477246,\n",
       "        0.05539142, -0.43064383,  0.38517368, -0.15522105, -0.25400835,\n",
       "       -0.07788256, -0.11968711,  0.29550475,  0.11706691, -0.41991502,\n",
       "        0.07987874, -0.06155476,  0.26329282,  0.40444857, -0.23149009,\n",
       "       -0.16340263,  0.14648025,  0.2177189 , -0.06829175, -0.4122078 ,\n",
       "        0.00697124,  0.06267288, -0.20257725, -0.38561073,  0.40038577,\n",
       "       -0.2068813 ,  0.17640088,  0.40015337,  0.6163198 ,  0.12918371,\n",
       "       -0.17808236, -0.34789908, -0.07339828, -0.01127354,  0.24655075,\n",
       "        0.0589992 , -0.07667213, -0.4628421 , -0.07781757, -0.15881246,\n",
       "       -0.20871162,  0.1420652 , -0.067105  , -0.04646559, -0.43931162,\n",
       "        0.14306387,  0.29190725,  0.10156756,  0.23502053,  0.02739254,\n",
       "        0.34549978,  0.04771652, -0.10581524, -0.18989287,  0.26456538,\n",
       "       -0.19861099,  0.36538678,  0.23409787,  0.35948887,  0.04970366,\n",
       "       -0.04197494,  0.03904726, -0.27697092,  0.17501041,  0.40069216,\n",
       "       -0.19411398,  0.04813004,  0.25473112,  0.15695842, -0.16995825,\n",
       "        0.19347   ,  0.08138495, -0.6572871 , -0.00252454, -0.35348254,\n",
       "        0.26470327,  0.1429116 , -0.29583246,  0.2944785 ,  0.07157775,\n",
       "        0.16100083,  0.1111775 , -0.22974274, -0.0179915 ,  0.17596659,\n",
       "        0.0696285 , -0.23669079, -0.08153695, -0.2636604 , -0.4241579 ,\n",
       "       -0.31547773, -0.18279806, -0.23705949,  0.00740606, -0.40231922,\n",
       "       -0.24637146,  0.20215432,  0.57754034,  0.4969217 ,  0.5666552 ,\n",
       "        0.39452338,  0.08269262,  0.442212  ,  0.30747372, -0.16010311,\n",
       "        0.07279323, -0.12506187,  0.23338394, -0.03812848,  0.09066644,\n",
       "       -0.33808893,  0.12463425, -0.12973885,  0.12037878, -0.05466378,\n",
       "       -0.18286179, -0.09098732,  0.21892722,  0.12146148, -0.20504689,\n",
       "        0.03783987, -0.18323925,  0.129772  , -0.1772485 ,  0.409693  ,\n",
       "       -0.28842056, -0.17246974,  0.45291734,  0.1209015 , -0.3161815 ,\n",
       "        0.32792267,  0.38774836,  0.32691526, -0.05741158, -0.10331643,\n",
       "        0.13997672, -0.44964668, -0.04479551, -0.3326552 ,  0.1270754 ,\n",
       "       -0.47020873,  0.04781795], dtype=float32)"
      ]
     },
     "execution_count": 78,
     "metadata": {},
     "output_type": "execute_result"
    }
   ],
   "source": [
    "n2v_embedding"
   ]
  },
  {
   "cell_type": "code",
   "execution_count": 79,
   "id": "d2beac0d",
   "metadata": {},
   "outputs": [],
   "source": [
    "local_model.save_pretrained(\"scImmune_metadata_model\")"
   ]
  }
 ],
 "metadata": {
  "kernelspec": {
   "display_name": "immunegptenv",
   "language": "python",
   "name": "python3"
  },
  "language_info": {
   "codemirror_mode": {
    "name": "ipython",
    "version": 3
   },
   "file_extension": ".py",
   "mimetype": "text/x-python",
   "name": "python",
   "nbconvert_exporter": "python",
   "pygments_lexer": "ipython3",
   "version": "3.9.21"
  }
 },
 "nbformat": 4,
 "nbformat_minor": 5
}
