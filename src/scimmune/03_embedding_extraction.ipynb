{
 "cells": [
  {
   "cell_type": "markdown",
   "id": "ce7d6684",
   "metadata": {},
   "source": [
    "# Immune Data Embeddings"
   ]
  },
  {
   "cell_type": "code",
   "execution_count": 1,
   "id": "6822d51a",
   "metadata": {},
   "outputs": [
    {
     "name": "stderr",
     "output_type": "stream",
     "text": [
      "/home/s5srinivasan/immune-foundational-model/.venv/lib64/python3.9/site-packages/tqdm/auto.py:21: TqdmWarning: IProgress not found. Please update jupyter and ipywidgets. See https://ipywidgets.readthedocs.io/en/stable/user_install.html\n",
      "  from .autonotebook import tqdm as notebook_tqdm\n"
     ]
    },
    {
     "ename": "ImportError",
     "evalue": "/home/s5srinivasan/immune-foundational-model/.venv/lib64/python3.9/site-packages/flash_attn_2_cuda.cpython-39-x86_64-linux-gnu.so: undefined symbol: _ZN3c104cuda9SetDeviceEa",
     "output_type": "error",
     "traceback": [
      "\u001b[0;31m---------------------------------------------------------------------------\u001b[0m",
      "\u001b[0;31mImportError\u001b[0m                               Traceback (most recent call last)",
      "Cell \u001b[0;32mIn[1], line 2\u001b[0m\n\u001b[1;32m      1\u001b[0m \u001b[38;5;28;01mfrom\u001b[39;00m\u001b[38;5;250m \u001b[39m\u001b[38;5;21;01mconfig\u001b[39;00m\u001b[38;5;250m \u001b[39m\u001b[38;5;28;01mimport\u001b[39;00m ScImmuneConfig\n\u001b[0;32m----> 2\u001b[0m \u001b[38;5;28;01mfrom\u001b[39;00m\u001b[38;5;250m \u001b[39m\u001b[38;5;21;01mmodel\u001b[39;00m\u001b[38;5;250m \u001b[39m\u001b[38;5;28;01mimport\u001b[39;00m ScImmuneModel\n\u001b[1;32m      3\u001b[0m \u001b[38;5;28;01mfrom\u001b[39;00m\u001b[38;5;250m \u001b[39m\u001b[38;5;21;01mtokenizer\u001b[39;00m\u001b[38;5;250m \u001b[39m\u001b[38;5;28;01mimport\u001b[39;00m ScImmuneTokenizer \u001b[38;5;66;03m# refactored version\u001b[39;00m\n\u001b[1;32m      5\u001b[0m \u001b[38;5;28;01mimport\u001b[39;00m\u001b[38;5;250m \u001b[39m\u001b[38;5;21;01mtorch\u001b[39;00m\n",
      "File \u001b[0;32m~/immune-foundational-model/src/scimmune/model.py:8\u001b[0m\n\u001b[1;32m      6\u001b[0m \u001b[38;5;28;01mfrom\u001b[39;00m\u001b[38;5;250m \u001b[39m\u001b[38;5;21;01mtransformers\u001b[39;00m\u001b[38;5;250m \u001b[39m\u001b[38;5;28;01mimport\u001b[39;00m PreTrainedModel\n\u001b[1;32m      7\u001b[0m \u001b[38;5;28;01mfrom\u001b[39;00m\u001b[38;5;250m \u001b[39m\u001b[38;5;21;01mconfig\u001b[39;00m\u001b[38;5;250m \u001b[39m\u001b[38;5;28;01mimport\u001b[39;00m ScImmuneConfig\n\u001b[0;32m----> 8\u001b[0m \u001b[38;5;28;01mfrom\u001b[39;00m\u001b[38;5;250m \u001b[39m\u001b[38;5;21;01mflash_attn\u001b[39;00m\u001b[38;5;250m \u001b[39m\u001b[38;5;28;01mimport\u001b[39;00m flash_attention\n\u001b[1;32m     11\u001b[0m \u001b[38;5;28;01mclass\u001b[39;00m\u001b[38;5;250m \u001b[39m\u001b[38;5;21;01mExprDecoder\u001b[39;00m(nn\u001b[38;5;241m.\u001b[39mModule):\n\u001b[1;32m     13\u001b[0m     \u001b[38;5;28;01mdef\u001b[39;00m\u001b[38;5;250m \u001b[39m\u001b[38;5;21m__init__\u001b[39m(\u001b[38;5;28mself\u001b[39m, d_model: \u001b[38;5;28mint\u001b[39m, explicit_zero_prob: \u001b[38;5;28mbool\u001b[39m \u001b[38;5;241m=\u001b[39m \u001b[38;5;28;01mFalse\u001b[39;00m):\n",
      "File \u001b[0;32m~/immune-foundational-model/.venv/lib64/python3.9/site-packages/flash_attn/__init__.py:3\u001b[0m\n\u001b[1;32m      1\u001b[0m __version__ \u001b[38;5;241m=\u001b[39m \u001b[38;5;124m\"\u001b[39m\u001b[38;5;124m2.8.2\u001b[39m\u001b[38;5;124m\"\u001b[39m\n\u001b[0;32m----> 3\u001b[0m \u001b[38;5;28;01mfrom\u001b[39;00m\u001b[38;5;250m \u001b[39m\u001b[38;5;21;01mflash_attn\u001b[39;00m\u001b[38;5;21;01m.\u001b[39;00m\u001b[38;5;21;01mflash_attn_interface\u001b[39;00m\u001b[38;5;250m \u001b[39m\u001b[38;5;28;01mimport\u001b[39;00m (\n\u001b[1;32m      4\u001b[0m     flash_attn_func,\n\u001b[1;32m      5\u001b[0m     flash_attn_kvpacked_func,\n\u001b[1;32m      6\u001b[0m     flash_attn_qkvpacked_func,\n\u001b[1;32m      7\u001b[0m     flash_attn_varlen_func,\n\u001b[1;32m      8\u001b[0m     flash_attn_varlen_kvpacked_func,\n\u001b[1;32m      9\u001b[0m     flash_attn_varlen_qkvpacked_func,\n\u001b[1;32m     10\u001b[0m     flash_attn_with_kvcache,\n\u001b[1;32m     11\u001b[0m )\n",
      "File \u001b[0;32m~/immune-foundational-model/.venv/lib64/python3.9/site-packages/flash_attn/flash_attn_interface.py:15\u001b[0m\n\u001b[1;32m     13\u001b[0m     \u001b[38;5;28;01mfrom\u001b[39;00m\u001b[38;5;250m \u001b[39m\u001b[38;5;21;01m.\u001b[39;00m\u001b[38;5;21;01mflash_attn_triton_amd\u001b[39;00m\u001b[38;5;250m \u001b[39m\u001b[38;5;28;01mimport\u001b[39;00m interface_fa \u001b[38;5;28;01mas\u001b[39;00m flash_attn_gpu\n\u001b[1;32m     14\u001b[0m \u001b[38;5;28;01melse\u001b[39;00m:\n\u001b[0;32m---> 15\u001b[0m     \u001b[38;5;28;01mimport\u001b[39;00m\u001b[38;5;250m \u001b[39m\u001b[38;5;21;01mflash_attn_2_cuda\u001b[39;00m\u001b[38;5;250m \u001b[39m\u001b[38;5;28;01mas\u001b[39;00m\u001b[38;5;250m \u001b[39m\u001b[38;5;21;01mflash_attn_gpu\u001b[39;00m\n\u001b[1;32m     17\u001b[0m \u001b[38;5;66;03m# isort: on\u001b[39;00m\n\u001b[1;32m     19\u001b[0m \u001b[38;5;28;01mdef\u001b[39;00m\u001b[38;5;250m \u001b[39m\u001b[38;5;21mmaybe_contiguous\u001b[39m(x):\n",
      "\u001b[0;31mImportError\u001b[0m: /home/s5srinivasan/immune-foundational-model/.venv/lib64/python3.9/site-packages/flash_attn_2_cuda.cpython-39-x86_64-linux-gnu.so: undefined symbol: _ZN3c104cuda9SetDeviceEa"
     ]
    }
   ],
   "source": [
    "from config import ScImmuneConfig\n",
    "from model import ScImmuneModel\n",
    "from tokenizer import ScImmuneTokenizer # refactored version\n",
    "\n",
    "import torch\n",
    "import os\n",
    "import shutil\n",
    "from utils import generate_metadata_embeddings, generate_metadata_tokens, assign_ontology_embeddings\n",
    "from gensim.models import Word2Vec\n",
    "import anndata as ad\n",
    "import pandas as pd\n",
    "import scanpy as sc\n",
    "import json"
   ]
  },
  {
   "cell_type": "markdown",
   "id": "3d77f6a2",
   "metadata": {},
   "source": [
    "## Modify tokens and embeddings"
   ]
  },
  {
   "cell_type": "code",
   "execution_count": null,
   "id": "7452a490",
   "metadata": {},
   "outputs": [],
   "source": [
    "shutil.copy(\"config.json\", \"scimmune-model/config.json\")\n",
    "shutil.copy(\"og_model.bin\", \"scimmune-model/pytorch_model.bin\")"
   ]
  },
  {
   "cell_type": "code",
   "execution_count": null,
   "id": "b16da846",
   "metadata": {},
   "outputs": [],
   "source": [
    "local_config = ScImmuneConfig.from_pretrained(\"scimmune-model\") # load config locally\n",
    "local_model = ScImmuneModel(local_config) # load model locally\n",
    "local_tokenizer = ScImmuneTokenizer(vocab_file=\"vocab_with_metadata.json\") # initialize tokenizer"
   ]
  },
  {
   "cell_type": "code",
   "execution_count": null,
   "id": "db3af41b",
   "metadata": {},
   "outputs": [],
   "source": [
    "len(local_tokenizer) # 350 new metadata tokens -> 60698 + 350 = 61048\n",
    "new_vocab_len = len(local_tokenizer)\n",
    "local_model.resize_token_embeddings(new_vocab_len)"
   ]
  },
  {
   "cell_type": "code",
   "execution_count": null,
   "id": "b4f94c95",
   "metadata": {},
   "outputs": [],
   "source": [
    "local_model # inspect full model"
   ]
  },
  {
   "cell_type": "markdown",
   "id": "ab0e2977",
   "metadata": {},
   "source": [
    "## Re-initialize metadata tokens with Node2Vec vectors"
   ]
  },
  {
   "cell_type": "code",
   "execution_count": null,
   "id": "f33cd534",
   "metadata": {},
   "outputs": [],
   "source": []
  },
  {
   "cell_type": "code",
   "execution_count": null,
   "id": "10b0f4f8",
   "metadata": {},
   "outputs": [],
   "source": [
    "embedding_layer = local_model.get_input_embeddings()\n",
    "embedding_layer"
   ]
  },
  {
   "cell_type": "code",
   "execution_count": null,
   "id": "50366a58",
   "metadata": {},
   "outputs": [],
   "source": [
    "# Set Node2Vec model folder path\n",
    "\n",
    "n2vmodel_path = \"../utils/obo_models\"\n",
    "\n",
    "# Load all embedding vectors\n",
    "doid_embeddings = Word2Vec.load(f\"{n2vmodel_path}/doid_node2vec.model\")\n",
    "cl_embeddings = Word2Vec.load(f\"{n2vmodel_path}/cl_node2vec.model\")\n",
    "hancestro_embeddings = Word2Vec.load(f\"{n2vmodel_path}/hancestro_node2vec.model\")\n",
    "hsapdv_embeddings = Word2Vec.load(f\"{n2vmodel_path}/hsapdv_node2vec.model\")\n",
    "uberon_embeddings = Word2Vec.load(f\"{n2vmodel_path}/uberon_node2vec.model\")"
   ]
  },
  {
   "cell_type": "code",
   "execution_count": null,
   "id": "5d7e497b",
   "metadata": {},
   "outputs": [],
   "source": [
    "with open(\"vocab_with_metadata.json\", \"r\") as f:\n",
    "    vocab_with_metadata_dict = json.load(f) # load this as a dict for lookup"
   ]
  },
  {
   "cell_type": "code",
   "execution_count": null,
   "id": "cb7e0566",
   "metadata": {},
   "outputs": [],
   "source": [
    "# Assign cell type ontology embeddings\n",
    "assign_ontology_embeddings(\n",
    "    tokenizer=local_tokenizer,\n",
    "    model=local_model,\n",
    "    node2vec_model_path=f\"{n2vmodel_path}/cl_node2vec.model\",\n",
    "    tag=\"cell_type\"\n",
    ")"
   ]
  },
  {
   "cell_type": "code",
   "execution_count": null,
   "id": "0b9be1f2",
   "metadata": {},
   "outputs": [],
   "source": [
    "# Assign self reported ethinicity ontology embeddings\n",
    "assign_ontology_embeddings(\n",
    "    tokenizer=local_tokenizer,\n",
    "    model=local_model,\n",
    "    node2vec_model_path=f\"{n2vmodel_path}/hancestro_node2vec.model\",\n",
    "    tag=\"self_reported_ethnicity\"\n",
    ")"
   ]
  },
  {
   "cell_type": "code",
   "execution_count": null,
   "id": "abd13542",
   "metadata": {},
   "outputs": [],
   "source": [
    "# Assign human development stage ontology embeddings\n",
    "assign_ontology_embeddings(\n",
    "    tokenizer=local_tokenizer,\n",
    "    model=local_model,\n",
    "    node2vec_model_path=f\"{n2vmodel_path}/hsapdv_node2vec.model\",\n",
    "    tag=\"development_stage\"\n",
    ")"
   ]
  },
  {
   "cell_type": "code",
   "execution_count": null,
   "id": "32e8a966",
   "metadata": {},
   "outputs": [],
   "source": [
    "# # Assign disease ontology embeddings - only for \"normal\" -> assign root embeddings\n",
    "assign_ontology_embeddings(\n",
    "    tokenizer=local_tokenizer,\n",
    "    model=local_model,\n",
    "    node2vec_model_path=f\"{n2vmodel_path}/doid_node2vec.model\",\n",
    "    tag=\"disease\"\n",
    ")"
   ]
  },
  {
   "cell_type": "code",
   "execution_count": null,
   "id": "51c2a1f8",
   "metadata": {},
   "outputs": [],
   "source": [
    "# Assign tissue (general) ontology embeddings\n",
    "assign_ontology_embeddings(\n",
    "    tokenizer=local_tokenizer,\n",
    "    model=local_model,\n",
    "    node2vec_model_path=f\"{n2vmodel_path}/uberon_node2vec.model\",\n",
    "    tag=\"tissue_general\"\n",
    ")"
   ]
  },
  {
   "cell_type": "code",
   "execution_count": null,
   "id": "dd08d41a",
   "metadata": {},
   "outputs": [],
   "source": [
    "# Check at random \n",
    "\n",
    "token = \"<self_reported_ethnicity=HANCESTRO:0014>\"\n",
    "oid = token[1:-1].split(\"=\")[1] # get OID\n",
    "token_id = local_tokenizer.convert_tokens_to_ids(token)\n",
    "\n",
    "print(token)\n",
    "print(token_id)\n",
    "\n",
    "n2v_embedding = hancestro_embeddings.wv[oid]\n",
    "\n",
    "model_embedding = embedding_layer.weight.data[token_id]"
   ]
  },
  {
   "cell_type": "code",
   "execution_count": null,
   "id": "577a5e02",
   "metadata": {},
   "outputs": [],
   "source": [
    "model_embedding"
   ]
  },
  {
   "cell_type": "code",
   "execution_count": null,
   "id": "d1f1b9c7",
   "metadata": {},
   "outputs": [],
   "source": [
    "n2v_embedding"
   ]
  },
  {
   "cell_type": "code",
   "execution_count": null,
   "id": "d2beac0d",
   "metadata": {},
   "outputs": [],
   "source": [
    "local_model.save_pretrained(\"scImmune_metadata_model\")"
   ]
  }
 ],
 "metadata": {
  "kernelspec": {
   "display_name": ".venv",
   "language": "python",
   "name": "python3"
  },
  "language_info": {
   "codemirror_mode": {
    "name": "ipython",
    "version": 3
   },
   "file_extension": ".py",
   "mimetype": "text/x-python",
   "name": "python",
   "nbconvert_exporter": "python",
   "pygments_lexer": "ipython3",
   "version": "3.9.21"
  }
 },
 "nbformat": 4,
 "nbformat_minor": 5
}
