{
 "cells": [
  {
   "cell_type": "markdown",
   "metadata": {},
   "source": [
    "# Querying CZI Census data via CZI CellXGene"
   ]
  },
  {
   "cell_type": "code",
   "execution_count": null,
   "metadata": {},
   "outputs": [],
   "source": [
    "!pip install -U cellxgene-census scanpy pandas numpy"
   ]
  },
  {
   "cell_type": "code",
   "execution_count": null,
   "metadata": {},
   "outputs": [],
   "source": [
    "import cellxgene_census as cxg\n",
    "import scanpy as sc\n",
    "import pandas as pd\n",
    "import numpy as np\n",
    "import os"
   ]
  },
  {
   "cell_type": "code",
   "execution_count": null,
   "metadata": {},
   "outputs": [],
   "source": [
    "# Constants\n",
    "VERSION = \"latest\"\n",
    "OUTPUT_DIR = \"\"  # Adjust based on need\n",
    "OUTPUT_FILE = \"\" # Name chunks \n",
    "PARTITION_SIZE = 500000  # Adjust based on memory availability"
   ]
  },
  {
   "cell_type": "code",
   "execution_count": null,
   "metadata": {},
   "outputs": [],
   "source": [
    "def get_soma_ids(QUERY, column_names: list):\n",
    "    \"\"\"\n",
    "    Retrieve all `soma_joinid` values\n",
    "    \"\"\"\n",
    "    with cxg.open_soma(census_version=VERSION) as census:\n",
    "        df = census[\"census_data\"][\"homo_sapiens\"].obs.read(\n",
    "            value_filter=QUERY,\n",
    "            column_names=column_names\n",
    "        ).concat().to_pandas()\n",
    "\n",
    "        df = df[df.development_stage.str.contains('year|decade|adult')] # only filter adult entries\n",
    "\n",
    "        return df\n",
    "\n",
    "def get_cxg_data(soma_ids, output_file, column_names, partition_size=PARTITION_SIZE):\n",
    "    \"\"\"\n",
    "    Download data in chunks and save as H5AD.\n",
    "\n",
    "    Parameters:\n",
    "        output_file (str): Path to save the output h5ad file.\n",
    "        partition_size (int): Number of cells per partition.\n",
    "    \"\"\"\n",
    "    # Get all matching cell IDs\n",
    "    total_cells = len(soma_ids)\n",
    "\n",
    "    print(f\"Found {total_cells} cells matching the query.\")\n",
    "\n",
    "    if total_cells == 0:\n",
    "        print(\"No data found.\")\n",
    "        return\n",
    "\n",
    "    with cxg.open_soma(census_version=VERSION) as census:\n",
    "        for i in range(0, total_cells, partition_size):\n",
    "            chunk_ids = soma_ids[i: i + partition_size]\n",
    "            print(f\"Downloading cells {i} to {i + len(chunk_ids)}...\")\n",
    "\n",
    "            adata = cxg.get_anndata(\n",
    "                census=census,\n",
    "                organism=\"Homo sapiens\",\n",
    "                obs_coords=chunk_ids,  # Using `soma_joinid` values\n",
    "                obs_column_names=column_names\n",
    "            )\n",
    "\n",
    "            chunk_file = f\"{output_file}_chunk{i // partition_size}.h5ad\"\n",
    "            adata.write_h5ad(chunk_file)\n",
    "            print(f\"Saved {adata.shape[0]} cells to {chunk_file}\")\n",
    "            del adata"
   ]
  },
  {
   "cell_type": "code",
   "execution_count": null,
   "metadata": {},
   "outputs": [],
   "source": [
    "column_names = [\n",
    "                        \"soma_joinid\",\n",
    "                        \"dataset_id\",\n",
    "                        \"assay\",\n",
    "                        # \"assay_ontology_term_id\",\n",
    "                        \"cell_type\",\n",
    "                        \"cell_type_ontology_term_id\",\n",
    "                        \"development_stage\",\n",
    "                        \"development_stage_ontology_term_id\",\n",
    "                        \"disease\",\n",
    "                        \"disease_ontology_term_id\",\n",
    "                        \"donor_id\",\n",
    "                        # \"is_primary_data\",\n",
    "                        \"observation_joinid\",\n",
    "                        \"self_reported_ethnicity\",\n",
    "                        \"self_reported_ethnicity_ontology_term_id\",\n",
    "                        \"sex\",\n",
    "                        \"sex_ontology_term_id\",\n",
    "                        # \"suspension_type\",\n",
    "                        # \"tissue\",\n",
    "                        # \"tissue_ontology_term_id\",\n",
    "                        # \"tissue_type\",\n",
    "                        \"tissue_general\",\n",
    "                        \"tissue_general_ontology_term_id\",\n",
    "                        # \"raw_sum\",\n",
    "                        # \"nnz\",\n",
    "                        # \"raw_mean_nnz\",\n",
    "                        # \"raw_variance_nnz\",\n",
    "                        # \"n_measured_vars\",\n",
    "                    ]"
   ]
  },
  {
   "cell_type": "code",
   "execution_count": null,
   "metadata": {},
   "outputs": [],
   "source": [
    "# Cell metadata filter values\n",
    "\n",
    "tissue_general = \"['bone marrow', 'blood', 'spleen', 'lung', 'lymph node']\"\n",
    "disease = \"['normal']\"\n",
    "assay_ontology_term_id = \"['EFO:0030003', 'EFO:0009901', 'EFO:0009899', 'EFO:0009922', 'EFO:0022604', 'EFO:0030004', 'EFO:0009900', 'EFO:0022605']\" # all 10x 3' and 10x 5' protocol assay ontologies\n",
    "suspension_type = \"['cell']\"\n",
    "is_primary_data = \"True\"\n",
    "\n",
    "# Final query string\n",
    "obs_value_filter =  f\"tissue_general in {tissue_general} and disease in {disease} and assay_ontology_term_id in {assay_ontology_term_id} and suspension_type in {suspension_type} and is_primary_data == {is_primary_data}\""
   ]
  },
  {
   "cell_type": "code",
   "execution_count": null,
   "metadata": {},
   "outputs": [],
   "source": [
    "# Settings to get immune cells\n",
    "\n",
    "cells = get_soma_ids(obs_value_filter, column_names=['soma_joinid', 'development_stage', 'tissue_general'])\n",
    "cells.tissue_general.value_counts()"
   ]
  },
  {
   "cell_type": "code",
   "execution_count": null,
   "metadata": {},
   "outputs": [],
   "source": [
    "# Set the desired number of cells per tissue\n",
    "n_cells = 200000\n",
    "\n",
    "# Group by tissue_general and apply sampling\n",
    "downsampled_cells = cells.groupby('tissue_general').apply(lambda x: x.sample(n=min(len(x), n_cells))).reset_index(drop=True)\n",
    "\n",
    "# Verify the new counts\n",
    "display(downsampled_cells.tissue_general.value_counts())"
   ]
  },
  {
   "cell_type": "code",
   "execution_count": null,
   "metadata": {},
   "outputs": [],
   "source": [
    "downsampled_cells_by_tissue = downsampled_cells.soma_joinid.to_list() # 200k per type"
   ]
  },
  {
   "cell_type": "code",
   "execution_count": null,
   "metadata": {},
   "outputs": [],
   "source": [
    "# Run download and create file\n",
    "get_cxg_data(soma_ids=downsampled_cells_by_tissue,\n",
    "             output_file=os.path.join(OUTPUT_DIR, OUTPUT_FILE),\n",
    "             column_names=column_names)"
   ]
  }
 ],
 "metadata": {
  "kernelspec": {
   "display_name": "immunegptenv",
   "language": "python",
   "name": "python3"
  },
  "language_info": {
   "codemirror_mode": {
    "name": "ipython",
    "version": 3
   },
   "file_extension": ".py",
   "mimetype": "text/x-python",
   "name": "python",
   "nbconvert_exporter": "python",
   "pygments_lexer": "ipython3",
   "version": "3.9.21"
  }
 },
 "nbformat": 4,
 "nbformat_minor": 2
}
