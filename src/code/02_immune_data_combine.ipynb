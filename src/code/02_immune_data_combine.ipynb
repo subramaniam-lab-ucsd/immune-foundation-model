{
 "cells": [
  {
   "cell_type": "markdown",
   "metadata": {},
   "source": [
    "# Putting together chunks for preprocessing\n",
    "1. Use ```glob``` to find all the chunks\n",
    "2. Run this pipeline for multidataset integration: https://chanzuckerberg.github.io/cellxgene-census/notebooks/analysis_demo/comp_bio_data_integration_scvi.html\n",
    "2. Run PCA to get ```X_pca``` layer of the data"
   ]
  },
  {
   "cell_type": "markdown",
   "metadata": {},
   "source": [
    "# Steps prior to generating the UMAP\n",
    "1. Normalization\n",
    "- The CZI data normalises to a sum of 1e1, but the integration procedure uses 1e4. Since there are raw counts available in the data, going ahead with the target sum 1e4 makes more sense. \n",
    "2. log1p transformation\n",
    "3. Scaling\n",
    "\n"
   ]
  },
  {
   "cell_type": "code",
   "execution_count": 1,
   "metadata": {},
   "outputs": [
    {
     "name": "stderr",
     "output_type": "stream",
     "text": [
      "Global seed set to 0\n"
     ]
    }
   ],
   "source": [
    "import cellxgene_census\n",
    "import pandas as pd\n",
    "import scanpy as sc\n",
    "import anndata\n",
    "import numpy as np\n",
    "import os\n",
    "from IPython.display import display # easy viewing of dataframes\n",
    "import glob\n",
    "from pathlib import Path\n",
    "import harmonypy\n",
    "import matplotlib as plt\n",
    "from scipy.sparse import csr_matrix\n",
    "import scvi "
   ]
  },
  {
   "cell_type": "code",
   "execution_count": null,
   "metadata": {},
   "outputs": [],
   "source": [
    "# chunk_datapath = Path(\"../data/cellxgene_data\") # set datapath\n",
    "# chunk_files = glob.glob(str(chunk_datapath) + \"/*.h5ad\")  # use glob to find all the .h5ad files\n",
    "\n",
    "# # Read all files into a list\n",
    "# adata_list = [sc.read_h5ad(f) for f in chunk_files] \n",
    "# adata = anndata.concat(adata_list, merge=\"same\") # concatenate adata\n",
    "\n",
    "# # Set new column batch based on dataset ID\n",
    "# adata.obs[\"batch\"] = adata.obs[\"dataset_id\"].astype(str)  # Ensure it's a string\n",
    "\n",
    "# adata.write(\"../data/datasets/cellxgene_covid_pbmc.h5ad\")\n",
    "# # Restart kernel at this point"
   ]
  },
  {
   "cell_type": "code",
   "execution_count": null,
   "metadata": {},
   "outputs": [
    {
     "name": "stderr",
     "output_type": "stream",
     "text": [
      "/home/s5srinivasan/immune-foundational-model/.venv/lib64/python3.9/site-packages/anndata/_core/anndata.py:1818: UserWarning: Observation names are not unique. To make them unique, call `.obs_names_make_unique`.\n",
      "  utils.warn_names_duplicates(\"obs\")\n"
     ]
    }
   ],
   "source": [
    "# Check for batch induced clustering\n",
    "covid_data_read = sc.read_h5ad(\"../data/datasets/cellxgene_covid_pbmc_processed.h5ad\")\n",
    "# del covid_data_read.obsm[\"X_pca\"]"
   ]
  },
  {
   "cell_type": "code",
   "execution_count": 3,
   "metadata": {},
   "outputs": [
    {
     "data": {
      "text/plain": [
       "AnnData object with n_obs × n_vars = 4090123 × 61891\n",
       "    obs: 'soma_joinid', 'dataset_id', 'assay', 'assay_ontology_term_id', 'cell_type', 'cell_type_ontology_term_id', 'development_stage', 'development_stage_ontology_term_id', 'disease', 'disease_ontology_term_id', 'donor_id', 'is_primary_data', 'observation_joinid', 'self_reported_ethnicity', 'self_reported_ethnicity_ontology_term_id', 'sex', 'sex_ontology_term_id', 'suspension_type', 'tissue', 'tissue_ontology_term_id', 'tissue_type', 'tissue_general', 'tissue_general_ontology_term_id', 'raw_sum', 'nnz', 'raw_mean_nnz', 'raw_variance_nnz', 'n_measured_vars', 'batch'\n",
       "    var: 'soma_joinid', 'feature_id', 'feature_name', 'feature_type', 'feature_length', 'nnz', 'n_measured_obs'\n",
       "    uns: 'pca'\n",
       "    varm: 'PCs'\n",
       "    layers: 'normalized'"
      ]
     },
     "execution_count": 59,
     "metadata": {},
     "output_type": "execute_result"
    }
   ],
   "source": [
    "covid_data_read"
   ]
  },
  {
   "cell_type": "code",
   "execution_count": 14,
   "metadata": {},
   "outputs": [
    {
     "data": {
      "text/plain": [
       "cell_type\n",
       "classical monocyte                            499181\n",
       "B cell                                        489978\n",
       "CD8-positive, alpha-beta T cell               469326\n",
       "CD4-positive, alpha-beta T cell               365524\n",
       "natural killer cell                           235321\n",
       "                                               ...  \n",
       "mast cell                                         59\n",
       "group 2 innate lymphoid cell, human               57\n",
       "myeloid lineage restricted progenitor cell        49\n",
       "T-helper 2 cell                                   37\n",
       "T-helper 17 cell                                  12\n",
       "Name: count, Length: 97, dtype: int64"
      ]
     },
     "execution_count": 60,
     "metadata": {},
     "output_type": "execute_result"
    }
   ],
   "source": [
    "covid_data_read.obs.cell_type.value_counts()"
   ]
  },
  {
   "cell_type": "code",
   "execution_count": 15,
   "metadata": {},
   "outputs": [
    {
     "name": "stdout",
     "output_type": "stream",
     "text": [
      "['soma_joinid', 'dataset_id', 'assay', 'assay_ontology_term_id', 'cell_type', 'cell_type_ontology_term_id', 'development_stage', 'development_stage_ontology_term_id', 'disease', 'disease_ontology_term_id', 'donor_id', 'is_primary_data', 'observation_joinid', 'self_reported_ethnicity', 'self_reported_ethnicity_ontology_term_id', 'sex', 'sex_ontology_term_id', 'suspension_type', 'tissue', 'tissue_ontology_term_id', 'tissue_type', 'tissue_general', 'tissue_general_ontology_term_id', 'raw_sum', 'nnz', 'raw_mean_nnz', 'raw_variance_nnz', 'n_measured_vars', 'batch']\n"
     ]
    },
    {
     "name": "stderr",
     "output_type": "stream",
     "text": [
      "/tmp/ipykernel_2418725/225972403.py:5: DeprecationWarning: is_categorical_dtype is deprecated and will be removed in a future version. Use isinstance(dtype, pd.CategoricalDtype) instead\n",
      "  if pd.api.types.is_categorical_dtype(covid_data_read.obs[colname]):\n"
     ]
    }
   ],
   "source": [
    "obs_cols = list(covid_data_read.obs.columns)\n",
    "print(obs_cols)\n",
    "\n",
    "for colname in obs_cols:\n",
    "    if pd.api.types.is_categorical_dtype(covid_data_read.obs[colname]):\n",
    "        covid_data_read.obs[colname] = covid_data_read.obs[colname].cat.remove_unused_categories()"
   ]
  },
  {
   "cell_type": "code",
   "execution_count": 18,
   "metadata": {},
   "outputs": [
    {
     "data": {
      "text/plain": [
       "dataset_id\n",
       "9dbab10c-118d-496b-966a-67f1763a6b7d    1234186\n",
       "ebc2e1ff-c8f9-466a-acf4-9d291afaf8b3     724710\n",
       "c7775e88-49bf-4ba2-a03b-93f00447c958     527286\n",
       "01ad3cd7-3929-4654-84c0-6db05bd5fd59     425398\n",
       "21d3e683-80a4-4d9b-bc89-ebb2df513dde     178805\n",
       "2a498ace-872a-4935-984b-1afa70fd9886     151312\n",
       "96a3f64b-0ee9-40d8-91e9-813ce38261c9     135892\n",
       "30cd5311-6c09-46c9-94f1-71fe4b91813c      99152\n",
       "c2a461b1-0c15-4047-9fcb-1f966fe55100      97499\n",
       "bc2a7b3d-f04e-477e-96c9-9d5367d5425c      68011\n",
       "fa8605cf-f27e-44af-ac2a-476bee4410d3      57552\n",
       "5e717147-0f75-4de1-8bd2-6fda01b8d75f      45170\n",
       "242c6e7f-9016-4048-af70-d631f5eea188      36906\n",
       "de2c780c-1747-40bd-9ccf-9588ec186cee      31463\n",
       "db0752b9-f20e-40b8-8997-992f3ae0bb2e      30126\n",
       "456e8b9b-f872-488b-871d-94534090a865      28094\n",
       "4c4cd77c-8fee-4836-9145-16562a8782fe      27214\n",
       "055ca631-6ffb-40de-815e-b931e10718c0      25540\n",
       "59b69042-47c2-47fd-ad03-d21beb99818f      23185\n",
       "bc260987-8ee5-4b6e-8773-72805166b3f7      15983\n",
       "ae5341b8-60fb-4fac-86db-86e49ee66287      14783\n",
       "d9b4bc69-ed90-4f5f-99b2-61b0681ba436      13888\n",
       "db59611b-42de-4035-93aa-1ed39f38b467      11574\n",
       "693ae928-96ba-47de-b9d9-1321c675bfcd       9350\n",
       "eeacb0c1-2217-4cf6-b8ce-1f0fedf1b569       9337\n",
       "1a434263-2aa5-4fd9-a1f3-1c4a2a8fb771       7832\n",
       "881fe679-c6e0-45a3-9427-c4e81be6921f       7097\n",
       "e763ed0d-0e5a-4b8e-9514-6da3d9e47956       6308\n",
       "ed9e9f96-4f08-49d2-bef5-b2c29adf3edc       5696\n",
       "84230ea4-998d-4aa8-8456-81dd54ce23af       5608\n",
       "cab0bc48-744c-461b-aaf4-7bf2cb7af00d       5080\n",
       "79ef1959-a6b4-4cac-82ca-30feaec48df1       4846\n",
       "ea786a06-5855-48b7-80d7-0313a21a2044       4792\n",
       "50eb1e23-b8d4-4f76-a184-44e5541fa05a       4755\n",
       "c874f155-9bf9-4928-b821-f52c876b3e48       4603\n",
       "8a554710-08bc-4005-87cd-da9675bdc2e7       4232\n",
       "01c93cf6-b695-4e30-a26e-121ae8b16a9e       3726\n",
       "1a7e99fe-d5b6-44d7-aa50-c6ef6ab29761       3132\n",
       "Name: count, dtype: int64"
      ]
     },
     "execution_count": 18,
     "metadata": {},
     "output_type": "execute_result"
    }
   ],
   "source": [
    "covid_data_read.obs.dataset_id.value_counts()"
   ]
  },
  {
   "cell_type": "code",
   "execution_count": null,
   "metadata": {},
   "outputs": [],
   "source": [
    "covid_data_read.write_h5ad(\"../data/datasets/cellxgene_covid_pbmc_processed.h5ad\")"
   ]
  },
  {
   "cell_type": "code",
   "execution_count": 17,
   "metadata": {},
   "outputs": [
    {
     "name": "stderr",
     "output_type": "stream",
     "text": [
      "/home/s5srinivasan/immune-foundational-model/.venv/lib64/python3.9/site-packages/anndata/_core/anndata.py:1818: UserWarning: Observation names are not unique. To make them unique, call `.obs_names_make_unique`.\n",
      "  utils.warn_names_duplicates(\"obs\")\n"
     ]
    }
   ],
   "source": [
    "covid_data_processed = sc.read_h5ad(\"../data/datasets/cellxgene_covid_pbmc_processed.h5ad\")"
   ]
  },
  {
   "cell_type": "code",
   "execution_count": 18,
   "metadata": {},
   "outputs": [],
   "source": [
    "covid_data_processed.obs.set_index(\"soma_joinid\", inplace=True) # indices are not unique, because of data concatenation"
   ]
  },
  {
   "cell_type": "code",
   "execution_count": 19,
   "metadata": {},
   "outputs": [],
   "source": [
    "covid_data_processed.obs_names = covid_data_processed.obs_names.astype(str) # convert to str?"
   ]
  },
  {
   "cell_type": "code",
   "execution_count": 23,
   "metadata": {},
   "outputs": [],
   "source": [
    "czi_covid_pbmc_5pct = sc.pp.subsample(covid_data_processed, fraction=0.05, copy=True, random_state=42)"
   ]
  },
  {
   "cell_type": "code",
   "execution_count": 26,
   "metadata": {},
   "outputs": [],
   "source": [
    "czi_covid_pbmc_2pct = sc.pp.subsample(covid_data_processed, fraction=0.02, copy=True, random_state=21)"
   ]
  },
  {
   "cell_type": "code",
   "execution_count": null,
   "metadata": {},
   "outputs": [
    {
     "name": "stdout",
     "output_type": "stream",
     "text": [
      "4084\n"
     ]
    }
   ],
   "source": [
    "common_obs = czi_covid_pbmc_2pct.obs_names.intersection(czi_covid_pbmc_5pct.obs_names)\n",
    "print(len(common_obs)) # 4084"
   ]
  },
  {
   "cell_type": "code",
   "execution_count": 31,
   "metadata": {},
   "outputs": [],
   "source": [
    "czi_covid_pbmc_5pct.write_h5ad(\"../data/datasets/czi_covid_pbmc_5pct.h5ad\")\n",
    "czi_covid_pbmc_2pct.write_h5ad(\"../data/datasets/czi_covid_pbmc_2pct.h5ad\")"
   ]
  },
  {
   "cell_type": "code",
   "execution_count": 3,
   "metadata": {},
   "outputs": [],
   "source": [
    "import scanpy as sc\n",
    "adata = sc.read_h5ad(\"../data/datasets/czi_covid_pbmc_2pct.h5ad\")"
   ]
  },
  {
   "cell_type": "code",
   "execution_count": 5,
   "metadata": {},
   "outputs": [
    {
     "data": {
      "text/html": [
       "<div>\n",
       "<style scoped>\n",
       "    .dataframe tbody tr th:only-of-type {\n",
       "        vertical-align: middle;\n",
       "    }\n",
       "\n",
       "    .dataframe tbody tr th {\n",
       "        vertical-align: top;\n",
       "    }\n",
       "\n",
       "    .dataframe thead th {\n",
       "        text-align: right;\n",
       "    }\n",
       "</style>\n",
       "<table border=\"1\" class=\"dataframe\">\n",
       "  <thead>\n",
       "    <tr style=\"text-align: right;\">\n",
       "      <th></th>\n",
       "      <th>soma_joinid</th>\n",
       "      <th>feature_id</th>\n",
       "      <th>feature_name</th>\n",
       "      <th>feature_type</th>\n",
       "      <th>feature_length</th>\n",
       "      <th>nnz</th>\n",
       "      <th>n_measured_obs</th>\n",
       "    </tr>\n",
       "  </thead>\n",
       "  <tbody>\n",
       "    <tr>\n",
       "      <th>0</th>\n",
       "      <td>0</td>\n",
       "      <td>ENSG00000237491</td>\n",
       "      <td>LINC01409</td>\n",
       "      <td>lncRNA</td>\n",
       "      <td>1059</td>\n",
       "      <td>8092260</td>\n",
       "      <td>95094402</td>\n",
       "    </tr>\n",
       "    <tr>\n",
       "      <th>1</th>\n",
       "      <td>1</td>\n",
       "      <td>ENSG00000188976</td>\n",
       "      <td>NOC2L</td>\n",
       "      <td>protein_coding</td>\n",
       "      <td>1244</td>\n",
       "      <td>19230641</td>\n",
       "      <td>108793999</td>\n",
       "    </tr>\n",
       "    <tr>\n",
       "      <th>2</th>\n",
       "      <td>2</td>\n",
       "      <td>ENSG00000187642</td>\n",
       "      <td>PERM1</td>\n",
       "      <td>protein_coding</td>\n",
       "      <td>2765</td>\n",
       "      <td>666992</td>\n",
       "      <td>98698276</td>\n",
       "    </tr>\n",
       "    <tr>\n",
       "      <th>3</th>\n",
       "      <td>3</td>\n",
       "      <td>ENSG00000272512</td>\n",
       "      <td>ENSG00000272512.1</td>\n",
       "      <td>lncRNA</td>\n",
       "      <td>2086</td>\n",
       "      <td>936018</td>\n",
       "      <td>94057772</td>\n",
       "    </tr>\n",
       "    <tr>\n",
       "      <th>4</th>\n",
       "      <td>4</td>\n",
       "      <td>ENSG00000188290</td>\n",
       "      <td>HES4</td>\n",
       "      <td>protein_coding</td>\n",
       "      <td>961</td>\n",
       "      <td>19466352</td>\n",
       "      <td>108551895</td>\n",
       "    </tr>\n",
       "    <tr>\n",
       "      <th>...</th>\n",
       "      <td>...</td>\n",
       "      <td>...</td>\n",
       "      <td>...</td>\n",
       "      <td>...</td>\n",
       "      <td>...</td>\n",
       "      <td>...</td>\n",
       "      <td>...</td>\n",
       "    </tr>\n",
       "    <tr>\n",
       "      <th>61886</th>\n",
       "      <td>61886</td>\n",
       "      <td>ENSG00000290649</td>\n",
       "      <td>OR51H1_ENSG00000290649</td>\n",
       "      <td>lncRNA</td>\n",
       "      <td>1038</td>\n",
       "      <td>0</td>\n",
       "      <td>574565</td>\n",
       "    </tr>\n",
       "    <tr>\n",
       "      <th>61887</th>\n",
       "      <td>61887</td>\n",
       "      <td>ENSG00000290330</td>\n",
       "      <td>FAM197Y5_ENSG00000290330</td>\n",
       "      <td>lncRNA</td>\n",
       "      <td>428</td>\n",
       "      <td>33</td>\n",
       "      <td>355941</td>\n",
       "    </tr>\n",
       "    <tr>\n",
       "      <th>61888</th>\n",
       "      <td>61888</td>\n",
       "      <td>ENSG00000290376</td>\n",
       "      <td>HERC2P3_ENSG00000290376</td>\n",
       "      <td>lncRNA</td>\n",
       "      <td>682</td>\n",
       "      <td>812</td>\n",
       "      <td>355941</td>\n",
       "    </tr>\n",
       "    <tr>\n",
       "      <th>61889</th>\n",
       "      <td>61889</td>\n",
       "      <td>ENSG00000292362</td>\n",
       "      <td>CD99P1_ENSG00000292362</td>\n",
       "      <td>lncRNA</td>\n",
       "      <td>1030</td>\n",
       "      <td>374</td>\n",
       "      <td>676845</td>\n",
       "    </tr>\n",
       "    <tr>\n",
       "      <th>61890</th>\n",
       "      <td>61890</td>\n",
       "      <td>ENSG00000292367</td>\n",
       "      <td>ELOCP24_ENSG00000292367</td>\n",
       "      <td>processed_pseudogene</td>\n",
       "      <td>334</td>\n",
       "      <td>0</td>\n",
       "      <td>676845</td>\n",
       "    </tr>\n",
       "  </tbody>\n",
       "</table>\n",
       "<p>61891 rows × 7 columns</p>\n",
       "</div>"
      ],
      "text/plain": [
       "       soma_joinid       feature_id              feature_name  \\\n",
       "0                0  ENSG00000237491                 LINC01409   \n",
       "1                1  ENSG00000188976                     NOC2L   \n",
       "2                2  ENSG00000187642                     PERM1   \n",
       "3                3  ENSG00000272512         ENSG00000272512.1   \n",
       "4                4  ENSG00000188290                      HES4   \n",
       "...            ...              ...                       ...   \n",
       "61886        61886  ENSG00000290649    OR51H1_ENSG00000290649   \n",
       "61887        61887  ENSG00000290330  FAM197Y5_ENSG00000290330   \n",
       "61888        61888  ENSG00000290376   HERC2P3_ENSG00000290376   \n",
       "61889        61889  ENSG00000292362    CD99P1_ENSG00000292362   \n",
       "61890        61890  ENSG00000292367   ELOCP24_ENSG00000292367   \n",
       "\n",
       "               feature_type  feature_length       nnz  n_measured_obs  \n",
       "0                    lncRNA            1059   8092260        95094402  \n",
       "1            protein_coding            1244  19230641       108793999  \n",
       "2            protein_coding            2765    666992        98698276  \n",
       "3                    lncRNA            2086    936018        94057772  \n",
       "4            protein_coding             961  19466352       108551895  \n",
       "...                     ...             ...       ...             ...  \n",
       "61886                lncRNA            1038         0          574565  \n",
       "61887                lncRNA             428        33          355941  \n",
       "61888                lncRNA             682       812          355941  \n",
       "61889                lncRNA            1030       374          676845  \n",
       "61890  processed_pseudogene             334         0          676845  \n",
       "\n",
       "[61891 rows x 7 columns]"
      ]
     },
     "execution_count": 5,
     "metadata": {},
     "output_type": "execute_result"
    }
   ],
   "source": [
    "adata.var"
   ]
  }
 ],
 "metadata": {
  "kernelspec": {
   "display_name": ".venv",
   "language": "python",
   "name": "python3"
  },
  "language_info": {
   "codemirror_mode": {
    "name": "ipython",
    "version": 3
   },
   "file_extension": ".py",
   "mimetype": "text/x-python",
   "name": "python",
   "nbconvert_exporter": "python",
   "pygments_lexer": "ipython3",
   "version": "3.9.21"
  }
 },
 "nbformat": 4,
 "nbformat_minor": 2
}
