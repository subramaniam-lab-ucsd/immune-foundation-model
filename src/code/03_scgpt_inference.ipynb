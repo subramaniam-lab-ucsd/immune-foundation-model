{
 "cells": [
  {
   "cell_type": "markdown",
   "metadata": {},
   "source": [
    "## HF scGPT - inference"
   ]
  },
  {
   "cell_type": "code",
   "execution_count": null,
   "metadata": {},
   "outputs": [],
   "source": [
    "from tdc import tdc_hf_interface\n",
    "from tdc.model_server.tokenizers.scgpt import scGPTTokenizer\n",
    "import torch\n",
    "import numpy as np\n",
    "\n",
    "scgpt = tdc_hf_interface(\"scGPT\")\n",
    "model = scgpt.load().eval().cuda()  # or .cpu() if needed\n",
    "tokenizer = scGPTTokenizer()"
   ]
  },
  {
   "cell_type": "code",
   "execution_count": null,
   "metadata": {},
   "outputs": [],
   "source": [
    "import scanpy as sc\n",
    "\n",
    "adata = sc.read_h5ad(\"../data/sample_ms/c_data.h5ad\")\n",
    "\n",
    "# Gene names to match tokenizer vocab\n",
    "gene_names = adata.var[\"gene_name\"].to_numpy()  # or var_names depending on the file\n",
    "expr = adata.X.toarray()  # ensure it's dense\n",
    "tokenized_data = tokenizer.tokenize_cell_vectors(expr, gene_names)"
   ]
  },
  {
   "cell_type": "code",
   "execution_count": null,
   "metadata": {},
   "outputs": [],
   "source": [
    "embeddings = []\n",
    "\n",
    "with torch.no_grad():\n",
    "    for token_ids, counts in tokenized_data:\n",
    "        input_ids = torch.tensor(token_ids).unsqueeze(0).to(model.device)\n",
    "        values = torch.tensor(counts).unsqueeze(0).to(model.device)\n",
    "        attention_mask = (values != 0).bool()\n",
    "\n",
    "        out = model(input_ids=input_ids, values=values, attention_mask=attention_mask)\n",
    "        cell_emb = out[\"cell_emb\"].squeeze().cpu().numpy()\n",
    "        embeddings.append(cell_emb)\n",
    "\n",
    "adata.obsm[\"X_scgpt\"] = np.stack(embeddings)"
   ]
  },
  {
   "cell_type": "code",
   "execution_count": null,
   "metadata": {},
   "outputs": [],
   "source": [
    "sc.pp.neighbors(adata, use_rep=\"X_scgpt\")\n",
    "sc.tl.umap(adata)\n",
    "sc.pl.umap(adata, color=\"celltype\", title=\"UMAP from scGPT Embeddings\")"
   ]
  },
  {
   "cell_type": "code",
   "execution_count": null,
   "metadata": {},
   "outputs": [],
   "source": [
    "import scanpy as sc\n",
    "import matplotlib.pyplot as plt\n",
    "\n",
    "\n",
    "sc.pp.pca(adata)\n",
    "sc.pp.neighbors(adata)\n",
    "\n",
    "sc.tl.umap(adata)"
   ]
  },
  {
   "cell_type": "code",
   "execution_count": null,
   "metadata": {},
   "outputs": [],
   "source": [
    "sc.pl.umap(adata, color=\"celltype\")"
   ]
  },
  {
   "cell_type": "markdown",
   "metadata": {},
   "source": [
    "## Native scGPT - inference"
   ]
  },
  {
   "cell_type": "code",
   "execution_count": null,
   "metadata": {},
   "outputs": [],
   "source": [
    "from scgpt.model import TransformerModel\n",
    "from scgpt.tokenizer.gene_tokenizer import GeneVocab\n",
    "# import torch\n",
    "\n",
    "# Load vocab\n",
    "vocab = GeneVocab.from_file(\"../models/hf-scgpt/scgpt_vocab.json\")\n",
    "\n",
    "# Args for model\n",
    "ntokens = len(vocab)\n",
    "embsize = 128 # layer_size\n",
    "nhead = 4 # four attention heads\n",
    "d_hid = 128 # layer_size\n",
    "nlayers = 4 # number of layers\n",
    "nlayers_cls=3\n",
    "n_cls=num_types\n",
    "vocab=vocab\n",
    "dropout=0.2, # dropout\n",
    "pad_token=\"<pad>\"\n",
    "pad_value=-2\n",
    "do_mvc=False\n",
    "do_dab=False\n",
    "use_batch_labels=False\n",
    "num_batch_labels=num_batch_types\n",
    "domain_spec_batchnorm=False\n",
    "input_emb_style = \"continuous\"  # \"category\" or \"continuous\" or \"scaling\"\n",
    "n_input_bins=51\n",
    "cell_emb_style=\"cls\"\n",
    "mvc_decoder_style=\"inner product\"\n",
    "ecs_threshold=0.0\n",
    "# explicit_zero_prob=explicit_zero_prob\n",
    "use_fast_transformer=True\n",
    "fast_transformer_backend=\"flash\"\n",
    "pre_norm=False\n",
    "\n",
    "x\n",
    "\n",
    "model.eval().cuda()  # or .cpu()"
   ]
  },
  {
   "cell_type": "code",
   "execution_count": null,
   "metadata": {},
   "outputs": [],
   "source": [
    "import scgpt as scg\n",
    "import scanpy as sc\n",
    "import numpy as np \n",
    "import pandas as pd\n",
    "import sklearn\n",
    "\n",
    "model_dir = \"../models/scgpt_human\"\n",
    "adata = sc.read_h5ad(\"../data/sample_ms/c_data.h5ad\")\n",
    "\n",
    "cell_type_key = \"celltype\"\n",
    "gene_col = \"index\""
   ]
  },
  {
   "cell_type": "code",
   "execution_count": null,
   "metadata": {},
   "outputs": [],
   "source": [
    "sc.pp.pca(adata)\n",
    "sc.pp.neighbors(adata)\n",
    "sc.tl.umap(adata)\n",
    "sc.pl.umap(adata, color=cell_type_key, frameon=False)"
   ]
  },
  {
   "cell_type": "code",
   "execution_count": null,
   "metadata": {},
   "outputs": [],
   "source": [
    "adata = scg.tasks.embed_data(\n",
    "    adata,\n",
    "    model_dir,\n",
    "    gene_col=gene_col,\n",
    "    obs_to_save=cell_type_key,  # optional arg, only for saving metainfo\n",
    "    batch_size=64,\n",
    "    return_new_adata=False,\n",
    ")"
   ]
  },
  {
   "cell_type": "code",
   "execution_count": null,
   "metadata": {},
   "outputs": [],
   "source": [
    "adata"
   ]
  },
  {
   "cell_type": "code",
   "execution_count": null,
   "metadata": {},
   "outputs": [],
   "source": [
    "sc.pp.neighbors(adata, use_rep=\"X_scGPT\")\n",
    "sc.tl.umap(adata)\n",
    "sc.pl.umap(adata, color=cell_type_key, frameon=False)"
   ]
  },
  {
   "cell_type": "code",
   "execution_count": null,
   "metadata": {},
   "outputs": [],
   "source": [
    "model = TransformerModel(\n",
    "    ntokens,\n",
    "    embsize,\n",
    "    nhead,\n",
    "    d_hid,\n",
    "    nlayers,\n",
    "    nlayers_cls=3,\n",
    "    n_cls=num_types if CLS else 1,\n",
    "    vocab=vocab,\n",
    "    dropout=dropout,\n",
    "    pad_token=pad_token,\n",
    "    pad_value=pad_value,\n",
    "    do_mvc=MVC,\n",
    "    do_dab=DAB,\n",
    "    use_batch_labels=INPUT_BATCH_LABELS,\n",
    "    num_batch_labels=num_batch_types,\n",
    "    domain_spec_batchnorm=config.DSBN,\n",
    "    input_emb_style=input_emb_style,\n",
    "    n_input_bins=n_input_bins,\n",
    "    cell_emb_style=cell_emb_style,\n",
    "    mvc_decoder_style=mvc_decoder_style,\n",
    "    ecs_threshold=ecs_threshold,\n",
    "    explicit_zero_prob=explicit_zero_prob,\n",
    "    use_fast_transformer=use_fast_transformer,\n",
    "    fast_transformer_backend=fast_transformer_backend,\n",
    "    pre_norm=config.pre_norm,\n",
    ")"
   ]
  },
  {
   "cell_type": "code",
   "execution_count": null,
   "metadata": {},
   "outputs": [],
   "source": [
    "pip show torch torchtext"
   ]
  },
  {
   "cell_type": "markdown",
   "metadata": {},
   "source": [
    "# Inference example"
   ]
  },
  {
   "cell_type": "code",
   "execution_count": null,
   "metadata": {},
   "outputs": [],
   "source": [
    "from tdc import tdc_hf_interface\n",
    "from tdc.model_server.tokenizers.scgpt import scGPTTokenizer\n",
    "import torch\n",
    "import scanpy as sc\n",
    "import numpy as np\n",
    "import umap\n",
    "import matplotlib.pyplot as plt\n",
    "import pandas as pd"
   ]
  },
  {
   "cell_type": "code",
   "execution_count": null,
   "metadata": {},
   "outputs": [],
   "source": [
    "scgpt = tdc_hf_interface(\"scGPT\")\n",
    "model = scgpt.load()\n",
    "# model = scgpt.load().eval().cuda()"
   ]
  },
  {
   "cell_type": "code",
   "execution_count": null,
   "metadata": {},
   "outputs": [],
   "source": [
    "from transformers import PreTrainedModel\n",
    "import inspect\n",
    "print(inspect.signature(model.forward))\n"
   ]
  },
  {
   "cell_type": "code",
   "execution_count": null,
   "metadata": {},
   "outputs": [],
   "source": [
    "tokenizer = scGPTTokenizer()"
   ]
  },
  {
   "cell_type": "code",
   "execution_count": null,
   "metadata": {},
   "outputs": [],
   "source": [
    "data_dir = \"../data/sample_ms/\"\n",
    "adata = sc.read_h5ad(data_dir+\"c_data.h5ad\")"
   ]
  },
  {
   "cell_type": "code",
   "execution_count": null,
   "metadata": {},
   "outputs": [],
   "source": [
    "expr = adata.X.toarray()\n",
    "gene_names = adata.var[\"gene_name\"].to_numpy()\n",
    "tokenized_data = tokenizer.tokenize_cell_vectors(expr, gene_names)"
   ]
  },
  {
   "cell_type": "code",
   "execution_count": null,
   "metadata": {},
   "outputs": [],
   "source": [
    "from torch.nn.utils.rnn import pad_sequence\n",
    "from torch.utils.data import DataLoader, Dataset\n",
    "\n",
    "class scGPTDataset(Dataset):\n",
    "    def __init__(self, tokenized_data):\n",
    "        self.data = tokenized_data\n",
    "\n",
    "    def __len__(self):\n",
    "        return len(self.data)\n",
    "\n",
    "    def __getitem__(self, idx):\n",
    "        tokens, values = self.data[idx]\n",
    "        return {\n",
    "            \"input_ids\": torch.tensor(tokens, dtype=torch.long),\n",
    "            \"values\": torch.tensor(values, dtype=torch.float)\n",
    "        }\n",
    "\n",
    "def collate_fn(batch):\n",
    "    input_ids = [b[\"input_ids\"] for b in batch]\n",
    "    values = [b[\"values\"] for b in batch]\n",
    "\n",
    "    input_ids_padded = pad_sequence(input_ids, batch_first=True, padding_value=60694)\n",
    "    values_padded = pad_sequence(values, batch_first=True, padding_value=0.0)\n",
    "    attention_mask = (values_padded != 0).bool()\n",
    "\n",
    "    return {\n",
    "        \"input_ids\": input_ids_padded,\n",
    "        \"values\": values_padded,\n",
    "        \"attention_mask\": attention_mask\n",
    "    }\n",
    "\n",
    "def collate_fn(batch):\n",
    "    input_ids = [b[\"input_ids\"] for b in batch]\n",
    "    values = [b[\"values\"] for b in batch]\n",
    "\n",
    "    input_ids_padded = pad_sequence(input_ids, batch_first=True, padding_value=60694)\n",
    "    values_padded = pad_sequence(values, batch_first=True, padding_value=0.0)\n",
    "    attention_mask = (values_padded != 0).bool()\n",
    "\n",
    "    return {\n",
    "        \"input_ids\": input_ids_padded,\n",
    "        \"values\": values_padded,\n",
    "        \"attention_mask\": attention_mask\n",
    "    }\n"
   ]
  },
  {
   "cell_type": "code",
   "execution_count": null,
   "metadata": {},
   "outputs": [],
   "source": [
    "dataset = scGPTDataset(tokenized_data)\n",
    "loader = DataLoader(dataset, batch_size=32, collate_fn=collate_fn)\n",
    "\n",
    "embeddings = []\n",
    "\n",
    "model.eval()\n",
    "with torch.no_grad():\n",
    "    for batch in loader:\n",
    "        input_ids = batch[\"input_ids\"].to(model.device)\n",
    "        values = batch[\"values\"].to(model.device)\n",
    "        attention_mask = batch[\"attention_mask\"].to(model.device)\n",
    "\n",
    "        out = model(input_ids=input_ids, values=values, attention_mask=attention_mask)\n",
    "        cell_emb = out[\"cell_emb\"].cpu().numpy()\n",
    "        embeddings.append(cell_emb)\n",
    "\n",
    "adata.obsm[\"X_scgpt\"] = np.concatenate(embeddings)"
   ]
  },
  {
   "cell_type": "code",
   "execution_count": null,
   "metadata": {},
   "outputs": [],
   "source": [
    "# ✅ Step 6: Run UMAP on scGPT Embeddings\n",
    "sc.pp.pca(adata.obsm[\"X_scgpt\"])"
   ]
  },
  {
   "cell_type": "code",
   "execution_count": null,
   "metadata": {},
   "outputs": [],
   "source": [
    "adata"
   ]
  },
  {
   "cell_type": "code",
   "execution_count": null,
   "metadata": {},
   "outputs": [],
   "source": [
    "from transformers import PretrainedConfig\n",
    "\n",
    "class scGPTConfig(PretrainedConfig):\n",
    "    model_type = \"scgpt\"\n",
    "\n",
    "    def __init__(\n",
    "        self,\n",
    "        vocab_size=60697,\n",
    "        embsize=512,\n",
    "        nhead=8,\n",
    "        nlayers=12,\n",
    "        d_hid=512,\n",
    "        dropout=0.0,\n",
    "        pad_token_id=0,\n",
    "        **kwargs\n",
    "    ):\n",
    "        super().__init__(**kwargs)\n",
    "        self.vocab_size = vocab_size\n",
    "        self.hidden_size = embsize\n",
    "        self.nhead = nhead\n",
    "        self.nlayers = nlayers\n",
    "        self.d_hid = d_hid\n",
    "        self.dropout = dropout\n",
    "        self.pad_token_id = pad_token_id\n"
   ]
  },
  {
   "cell_type": "code",
   "execution_count": null,
   "metadata": {},
   "outputs": [],
   "source": [
    "from transformers import PreTrainedModel\n",
    "from scgpt.model import TransformerModel  # from the native repo\n",
    "import torch.nn as nn\n",
    "import torch.nn.functional as F\n",
    "import torch\n",
    "\n",
    "class scGPTWrapped(PreTrainedModel):\n",
    "    config_class = scGPTConfig\n",
    "\n",
    "    def __init__(self, config: scGPTConfig):\n",
    "        super().__init__(config)\n",
    "        self.model = TransformerModel(\n",
    "            ntoken=config.vocab_size,\n",
    "            d_model=config.hidden_size,\n",
    "            nhead=config.nhead,\n",
    "            d_hid=config.d_hid,\n",
    "            nlayers=config.nlayers,\n",
    "            dropout=config.dropout,\n",
    "            pad_token=config.pad_token_id\n",
    "        )\n",
    "        self.classifier = nn.Linear(config.hidden_size, config.num_labels)\n",
    "\n",
    "    def forward(self, input_ids, values, attention_mask=None, labels=None):\n",
    "        out = self.model(input_ids=input_ids, values=values, attention_mask=attention_mask, output_cell_emb=True)\n",
    "        emb = out[\"cell_emb\"]\n",
    "        logits = self.classifier(emb)\n",
    "        loss = F.cross_entropy(logits, labels) if labels is not None else None\n",
    "        return {\"loss\": loss, \"logits\": logits}\n",
    "\n",
    "\n",
    "config = scGPTConfig(\n",
    "    vocab_size=60697,      # or load from vocab\n",
    "    embsize=512,\n",
    "    nhead=8,\n",
    "    nlayers=12,\n",
    "    d_hid=512,\n",
    "    dropout=0.0,\n",
    "    pad_token_id=0\n",
    ")"
   ]
  },
  {
   "cell_type": "code",
   "execution_count": null,
   "metadata": {},
   "outputs": [],
   "source": [
    "state_dict = torch.load(\"../models/scgpt_human/best_model.pt\", map_location=\"cpu\")\n",
    "model = scGPTWrapped(config)\n",
    "model.model.load_state_dict(state_dict)"
   ]
  }
 ],
 "metadata": {
  "kernelspec": {
   "display_name": "py39env",
   "language": "python",
   "name": "python3"
  },
  "language_info": {
   "codemirror_mode": {
    "name": "ipython",
    "version": 3
   },
   "file_extension": ".py",
   "mimetype": "text/x-python",
   "name": "python",
   "nbconvert_exporter": "python",
   "pygments_lexer": "ipython3",
   "version": "3.9.21"
  }
 },
 "nbformat": 4,
 "nbformat_minor": 2
}
