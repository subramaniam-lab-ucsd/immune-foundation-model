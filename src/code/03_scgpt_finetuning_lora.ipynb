{
 "cells": [
  {
   "cell_type": "markdown",
   "metadata": {},
   "source": [
    "# Parameter Efficient Finetuning (PEFT) using Low Rank Adapters (LoRA) techniques\n",
    "\n",
    "# Goals\n",
    "1. Write a PyTorch training loop implementing LoRA via PEFT\n",
    "1. Integrate HuggingFace's PEFT into scGPT to perform finetuning\n",
    "2. Implementation will use HuggingFace's scGPT implementation from Therapeutic Commons - https://huggingface.co/tdc/scGPT\n",
    "3. Test dataset - M.S. dataset (since there is a benchmark)\n",
    "\n",
    "Requirements from HuggingFace\n",
    "- transformers \n",
    "- accelerate \n",
    "- evaluate\n",
    "- datasets \n",
    "- peft\n",
    "- loralib\n",
    "- PyTDC\n",
    "\n"
   ]
  },
  {
   "cell_type": "code",
   "execution_count": 1,
   "metadata": {},
   "outputs": [],
   "source": [
    "### Multiple Sclerosis Data\n",
    "\n",
    "# filtered_ms_adata.h5ad\n",
    "# # !gdown 1casFhq4InuBNhJLMnGebzkRXM2UTTeQG \n",
    "\n",
    "# c_data.h5ad\n",
    "# !gdown 1bV1SHKVZgkcL-RmmuN51_IIUJTSJbXOi "
   ]
  },
  {
   "cell_type": "code",
   "execution_count": 4,
   "metadata": {},
   "outputs": [
    {
     "name": "stdout",
     "output_type": "stream",
     "text": [
      "Requirement already satisfied: transformers in /home/s5srinivasan/immune-foundational-model/.venv/lib/python3.9/site-packages (4.51.0.dev0)\n",
      "Collecting transformers\n",
      "  Downloading transformers-4.51.2-py3-none-any.whl.metadata (38 kB)\n",
      "Requirement already satisfied: accelerate in /home/s5srinivasan/immune-foundational-model/.venv/lib/python3.9/site-packages (0.33.0)\n",
      "Collecting accelerate\n",
      "  Using cached accelerate-1.6.0-py3-none-any.whl.metadata (19 kB)\n",
      "Requirement already satisfied: peft in /home/s5srinivasan/immune-foundational-model/.venv/lib/python3.9/site-packages (0.15.1)\n",
      "Requirement already satisfied: datasets in /home/s5srinivasan/immune-foundational-model/.venv/lib/python3.9/site-packages (2.19.2)\n",
      "Collecting datasets\n",
      "  Using cached datasets-3.5.0-py3-none-any.whl.metadata (19 kB)\n",
      "Requirement already satisfied: PyTDC in /home/s5srinivasan/immune-foundational-model/.venv/lib/python3.9/site-packages (1.1.15)\n",
      "Requirement already satisfied: filelock in /home/s5srinivasan/immune-foundational-model/.venv/lib/python3.9/site-packages (from transformers) (3.18.0)\n",
      "Requirement already satisfied: huggingface-hub<1.0,>=0.30.0 in /home/s5srinivasan/immune-foundational-model/.venv/lib/python3.9/site-packages (from transformers) (0.30.1)\n",
      "Requirement already satisfied: numpy>=1.17 in /home/s5srinivasan/immune-foundational-model/.venv/lib/python3.9/site-packages (from transformers) (1.26.4)\n",
      "Requirement already satisfied: packaging>=20.0 in /home/s5srinivasan/immune-foundational-model/.venv/lib/python3.9/site-packages (from transformers) (24.2)\n",
      "Requirement already satisfied: pyyaml>=5.1 in /home/s5srinivasan/immune-foundational-model/.venv/lib/python3.9/site-packages (from transformers) (6.0.2)\n",
      "Requirement already satisfied: regex!=2019.12.17 in /home/s5srinivasan/immune-foundational-model/.venv/lib/python3.9/site-packages (from transformers) (2024.11.6)\n",
      "Requirement already satisfied: requests in /home/s5srinivasan/immune-foundational-model/.venv/lib/python3.9/site-packages (from transformers) (2.32.3)\n",
      "Requirement already satisfied: tokenizers<0.22,>=0.21 in /home/s5srinivasan/immune-foundational-model/.venv/lib/python3.9/site-packages (from transformers) (0.21.1)\n",
      "Requirement already satisfied: safetensors>=0.4.3 in /home/s5srinivasan/immune-foundational-model/.venv/lib/python3.9/site-packages (from transformers) (0.5.3)\n",
      "Requirement already satisfied: tqdm>=4.27 in /home/s5srinivasan/immune-foundational-model/.venv/lib/python3.9/site-packages (from transformers) (4.67.1)\n",
      "Requirement already satisfied: psutil in /home/s5srinivasan/immune-foundational-model/.venv/lib/python3.9/site-packages (from accelerate) (7.0.0)\n",
      "Requirement already satisfied: torch>=2.0.0 in /home/s5srinivasan/immune-foundational-model/.venv/lib/python3.9/site-packages (from accelerate) (2.6.0)\n",
      "Requirement already satisfied: pyarrow>=15.0.0 in /home/s5srinivasan/immune-foundational-model/.venv/lib/python3.9/site-packages (from datasets) (19.0.1)\n",
      "Requirement already satisfied: dill<0.3.9,>=0.3.0 in /home/s5srinivasan/immune-foundational-model/.venv/lib/python3.9/site-packages (from datasets) (0.3.8)\n",
      "Requirement already satisfied: pandas in /home/s5srinivasan/immune-foundational-model/.venv/lib/python3.9/site-packages (from datasets) (2.2.3)\n",
      "Requirement already satisfied: xxhash in /home/s5srinivasan/immune-foundational-model/.venv/lib/python3.9/site-packages (from datasets) (3.5.0)\n",
      "Requirement already satisfied: multiprocess<0.70.17 in /home/s5srinivasan/immune-foundational-model/.venv/lib/python3.9/site-packages (from datasets) (0.70.16)\n",
      "Requirement already satisfied: fsspec<=2024.12.0,>=2023.1.0 in /home/s5srinivasan/immune-foundational-model/.venv/lib/python3.9/site-packages (from fsspec[http]<=2024.12.0,>=2023.1.0->datasets) (2024.3.1)\n",
      "Requirement already satisfied: aiohttp in /home/s5srinivasan/immune-foundational-model/.venv/lib/python3.9/site-packages (from datasets) (3.11.14)\n",
      "Requirement already satisfied: dataclasses<1.0,>=0.6 in /home/s5srinivasan/immune-foundational-model/.venv/lib/python3.9/site-packages (from PyTDC) (0.6)\n",
      "Requirement already satisfied: evaluate==0.4.2 in /home/s5srinivasan/immune-foundational-model/.venv/lib/python3.9/site-packages (from PyTDC) (0.4.2)\n",
      "Requirement already satisfied: fuzzywuzzy<1.0,>=0.18.0 in /home/s5srinivasan/immune-foundational-model/.venv/lib/python3.9/site-packages (from PyTDC) (0.18.0)\n",
      "Requirement already satisfied: openpyxl<4.0.0,>=3.0.10 in /home/s5srinivasan/immune-foundational-model/.venv/lib/python3.9/site-packages (from PyTDC) (3.1.5)\n",
      "Requirement already satisfied: scikit-learn>=1.2.2 in /home/s5srinivasan/immune-foundational-model/.venv/lib/python3.9/site-packages (from PyTDC) (1.6.1)\n",
      "Requirement already satisfied: seaborn<1.0.0,>=0.12.2 in /home/s5srinivasan/immune-foundational-model/.venv/lib/python3.9/site-packages (from PyTDC) (0.13.2)\n",
      "Collecting transformers\n",
      "  Using cached transformers-4.50.3-py3-none-any.whl.metadata (39 kB)\n",
      "Requirement already satisfied: cellxgene-census==1.15.0 in /home/s5srinivasan/immune-foundational-model/.venv/lib/python3.9/site-packages (from PyTDC) (1.15.0)\n",
      "Requirement already satisfied: gget<1.0.0,>=0.28.4 in /home/s5srinivasan/immune-foundational-model/.venv/lib/python3.9/site-packages (from PyTDC) (0.29.0)\n",
      "Requirement already satisfied: pydantic<3.0.0,>=2.6.3 in /home/s5srinivasan/immune-foundational-model/.venv/lib/python3.9/site-packages (from PyTDC) (2.11.2)\n",
      "Requirement already satisfied: rdkit<2024.3.1,>=2023.9.5 in /home/s5srinivasan/immune-foundational-model/.venv/lib/python3.9/site-packages (from PyTDC) (2023.9.6)\n",
      "Requirement already satisfied: tiledbsoma<2.0.0,>=1.7.2 in /home/s5srinivasan/immune-foundational-model/.venv/lib/python3.9/site-packages (from PyTDC) (1.11.4)\n",
      "Requirement already satisfied: anndata in /home/s5srinivasan/immune-foundational-model/.venv/lib/python3.9/site-packages (from cellxgene-census==1.15.0->PyTDC) (0.10.8)\n",
      "Requirement already satisfied: typing-extensions in /home/s5srinivasan/immune-foundational-model/.venv/lib/python3.9/site-packages (from cellxgene-census==1.15.0->PyTDC) (4.13.0)\n",
      "Requirement already satisfied: s3fs>=2021.06.1 in /home/s5srinivasan/immune-foundational-model/.venv/lib/python3.9/site-packages (from cellxgene-census==1.15.0->PyTDC) (2024.3.1)\n",
      "Requirement already satisfied: pyarrow-hotfix in /home/s5srinivasan/immune-foundational-model/.venv/lib/python3.9/site-packages (from datasets) (0.6)\n",
      "Requirement already satisfied: aiohappyeyeballs>=2.3.0 in /home/s5srinivasan/immune-foundational-model/.venv/lib/python3.9/site-packages (from aiohttp->datasets) (2.6.1)\n",
      "Requirement already satisfied: aiosignal>=1.1.2 in /home/s5srinivasan/immune-foundational-model/.venv/lib/python3.9/site-packages (from aiohttp->datasets) (1.3.2)\n",
      "Requirement already satisfied: async-timeout<6.0,>=4.0 in /home/s5srinivasan/immune-foundational-model/.venv/lib/python3.9/site-packages (from aiohttp->datasets) (5.0.1)\n",
      "Requirement already satisfied: attrs>=17.3.0 in /home/s5srinivasan/immune-foundational-model/.venv/lib/python3.9/site-packages (from aiohttp->datasets) (25.3.0)\n",
      "Requirement already satisfied: frozenlist>=1.1.1 in /home/s5srinivasan/immune-foundational-model/.venv/lib/python3.9/site-packages (from aiohttp->datasets) (1.5.0)\n",
      "Requirement already satisfied: multidict<7.0,>=4.5 in /home/s5srinivasan/immune-foundational-model/.venv/lib/python3.9/site-packages (from aiohttp->datasets) (6.2.0)\n",
      "Requirement already satisfied: propcache>=0.2.0 in /home/s5srinivasan/immune-foundational-model/.venv/lib/python3.9/site-packages (from aiohttp->datasets) (0.3.1)\n",
      "Requirement already satisfied: yarl<2.0,>=1.17.0 in /home/s5srinivasan/immune-foundational-model/.venv/lib/python3.9/site-packages (from aiohttp->datasets) (1.18.3)\n",
      "Requirement already satisfied: ipython in /home/s5srinivasan/immune-foundational-model/.venv/lib/python3.9/site-packages (from gget<1.0.0,>=0.28.4->PyTDC) (8.18.1)\n",
      "Requirement already satisfied: matplotlib in /home/s5srinivasan/immune-foundational-model/.venv/lib/python3.9/site-packages (from gget<1.0.0,>=0.28.4->PyTDC) (3.9.4)\n",
      "Requirement already satisfied: mysql-connector-python>=8.0.32 in /home/s5srinivasan/immune-foundational-model/.venv/lib/python3.9/site-packages (from gget<1.0.0,>=0.28.4->PyTDC) (9.2.0)\n",
      "Requirement already satisfied: beautifulsoup4>=4.10.0 in /home/s5srinivasan/immune-foundational-model/.venv/lib/python3.9/site-packages (from gget<1.0.0,>=0.28.4->PyTDC) (4.13.3)\n",
      "Requirement already satisfied: ipywidgets in /home/s5srinivasan/immune-foundational-model/.venv/lib/python3.9/site-packages (from gget<1.0.0,>=0.28.4->PyTDC) (8.1.5)\n",
      "Requirement already satisfied: lxml in /home/s5srinivasan/immune-foundational-model/.venv/lib/python3.9/site-packages (from gget<1.0.0,>=0.28.4->PyTDC) (5.3.1)\n",
      "Requirement already satisfied: et-xmlfile in /home/s5srinivasan/immune-foundational-model/.venv/lib/python3.9/site-packages (from openpyxl<4.0.0,>=3.0.10->PyTDC) (2.0.0)\n",
      "Requirement already satisfied: python-dateutil>=2.8.2 in /home/s5srinivasan/immune-foundational-model/.venv/lib/python3.9/site-packages (from pandas->datasets) (2.9.0.post0)\n",
      "Requirement already satisfied: pytz>=2020.1 in /home/s5srinivasan/immune-foundational-model/.venv/lib/python3.9/site-packages (from pandas->datasets) (2025.2)\n",
      "Requirement already satisfied: tzdata>=2022.7 in /home/s5srinivasan/immune-foundational-model/.venv/lib/python3.9/site-packages (from pandas->datasets) (2025.2)\n",
      "Requirement already satisfied: annotated-types>=0.6.0 in /home/s5srinivasan/immune-foundational-model/.venv/lib/python3.9/site-packages (from pydantic<3.0.0,>=2.6.3->PyTDC) (0.7.0)\n",
      "Requirement already satisfied: pydantic-core==2.33.1 in /home/s5srinivasan/immune-foundational-model/.venv/lib/python3.9/site-packages (from pydantic<3.0.0,>=2.6.3->PyTDC) (2.33.1)\n",
      "Requirement already satisfied: typing-inspection>=0.4.0 in /home/s5srinivasan/immune-foundational-model/.venv/lib/python3.9/site-packages (from pydantic<3.0.0,>=2.6.3->PyTDC) (0.4.0)\n",
      "Requirement already satisfied: Pillow in /home/s5srinivasan/immune-foundational-model/.venv/lib/python3.9/site-packages (from rdkit<2024.3.1,>=2023.9.5->PyTDC) (11.1.0)\n",
      "Requirement already satisfied: charset-normalizer<4,>=2 in /home/s5srinivasan/immune-foundational-model/.venv/lib/python3.9/site-packages (from requests->transformers) (3.4.1)\n",
      "Requirement already satisfied: idna<4,>=2.5 in /home/s5srinivasan/immune-foundational-model/.venv/lib/python3.9/site-packages (from requests->transformers) (3.10)\n",
      "Requirement already satisfied: urllib3<3,>=1.21.1 in /home/s5srinivasan/immune-foundational-model/.venv/lib/python3.9/site-packages (from requests->transformers) (1.26.20)\n",
      "Requirement already satisfied: certifi>=2017.4.17 in /home/s5srinivasan/immune-foundational-model/.venv/lib/python3.9/site-packages (from requests->transformers) (2025.1.31)\n",
      "Requirement already satisfied: scipy>=1.6.0 in /home/s5srinivasan/immune-foundational-model/.venv/lib/python3.9/site-packages (from scikit-learn>=1.2.2->PyTDC) (1.13.1)\n",
      "Requirement already satisfied: joblib>=1.2.0 in /home/s5srinivasan/immune-foundational-model/.venv/lib/python3.9/site-packages (from scikit-learn>=1.2.2->PyTDC) (1.4.2)\n",
      "Requirement already satisfied: threadpoolctl>=3.1.0 in /home/s5srinivasan/immune-foundational-model/.venv/lib/python3.9/site-packages (from scikit-learn>=1.2.2->PyTDC) (3.6.0)\n",
      "Requirement already satisfied: numba>=0.58.0 in /home/s5srinivasan/immune-foundational-model/.venv/lib/python3.9/site-packages (from tiledbsoma<2.0.0,>=1.7.2->PyTDC) (0.60.0)\n",
      "Requirement already satisfied: scanpy>=1.9.2 in /home/s5srinivasan/immune-foundational-model/.venv/lib/python3.9/site-packages (from tiledbsoma<2.0.0,>=1.7.2->PyTDC) (1.10.3)\n",
      "Requirement already satisfied: somacore==1.0.11 in /home/s5srinivasan/immune-foundational-model/.venv/lib/python3.9/site-packages (from tiledbsoma<2.0.0,>=1.7.2->PyTDC) (1.0.11)\n",
      "Requirement already satisfied: tiledb~=0.29.0 in /home/s5srinivasan/immune-foundational-model/.venv/lib/python3.9/site-packages (from tiledbsoma<2.0.0,>=1.7.2->PyTDC) (0.29.1)\n",
      "Requirement already satisfied: networkx in /home/s5srinivasan/immune-foundational-model/.venv/lib/python3.9/site-packages (from torch>=2.0.0->accelerate) (3.2.1)\n",
      "Requirement already satisfied: jinja2 in /home/s5srinivasan/immune-foundational-model/.venv/lib/python3.9/site-packages (from torch>=2.0.0->accelerate) (3.1.6)\n",
      "Requirement already satisfied: nvidia-cuda-nvrtc-cu12==12.4.127 in /home/s5srinivasan/immune-foundational-model/.venv/lib/python3.9/site-packages (from torch>=2.0.0->accelerate) (12.4.127)\n",
      "Requirement already satisfied: nvidia-cuda-runtime-cu12==12.4.127 in /home/s5srinivasan/immune-foundational-model/.venv/lib/python3.9/site-packages (from torch>=2.0.0->accelerate) (12.4.127)\n",
      "Requirement already satisfied: nvidia-cuda-cupti-cu12==12.4.127 in /home/s5srinivasan/immune-foundational-model/.venv/lib/python3.9/site-packages (from torch>=2.0.0->accelerate) (12.4.127)\n",
      "Requirement already satisfied: nvidia-cudnn-cu12==9.1.0.70 in /home/s5srinivasan/immune-foundational-model/.venv/lib/python3.9/site-packages (from torch>=2.0.0->accelerate) (9.1.0.70)\n",
      "Requirement already satisfied: nvidia-cublas-cu12==12.4.5.8 in /home/s5srinivasan/immune-foundational-model/.venv/lib/python3.9/site-packages (from torch>=2.0.0->accelerate) (12.4.5.8)\n",
      "Requirement already satisfied: nvidia-cufft-cu12==11.2.1.3 in /home/s5srinivasan/immune-foundational-model/.venv/lib/python3.9/site-packages (from torch>=2.0.0->accelerate) (11.2.1.3)\n",
      "Requirement already satisfied: nvidia-curand-cu12==10.3.5.147 in /home/s5srinivasan/immune-foundational-model/.venv/lib/python3.9/site-packages (from torch>=2.0.0->accelerate) (10.3.5.147)\n",
      "Requirement already satisfied: nvidia-cusolver-cu12==11.6.1.9 in /home/s5srinivasan/immune-foundational-model/.venv/lib/python3.9/site-packages (from torch>=2.0.0->accelerate) (11.6.1.9)\n",
      "Requirement already satisfied: nvidia-cusparse-cu12==12.3.1.170 in /home/s5srinivasan/immune-foundational-model/.venv/lib/python3.9/site-packages (from torch>=2.0.0->accelerate) (12.3.1.170)\n",
      "Requirement already satisfied: nvidia-cusparselt-cu12==0.6.2 in /home/s5srinivasan/immune-foundational-model/.venv/lib/python3.9/site-packages (from torch>=2.0.0->accelerate) (0.6.2)\n",
      "Requirement already satisfied: nvidia-nccl-cu12==2.21.5 in /home/s5srinivasan/immune-foundational-model/.venv/lib/python3.9/site-packages (from torch>=2.0.0->accelerate) (2.21.5)\n",
      "Requirement already satisfied: nvidia-nvtx-cu12==12.4.127 in /home/s5srinivasan/immune-foundational-model/.venv/lib/python3.9/site-packages (from torch>=2.0.0->accelerate) (12.4.127)\n",
      "Requirement already satisfied: nvidia-nvjitlink-cu12==12.4.127 in /home/s5srinivasan/immune-foundational-model/.venv/lib/python3.9/site-packages (from torch>=2.0.0->accelerate) (12.4.127)\n",
      "Requirement already satisfied: triton==3.2.0 in /home/s5srinivasan/immune-foundational-model/.venv/lib/python3.9/site-packages (from torch>=2.0.0->accelerate) (3.2.0)\n",
      "Requirement already satisfied: sympy==1.13.1 in /home/s5srinivasan/immune-foundational-model/.venv/lib/python3.9/site-packages (from torch>=2.0.0->accelerate) (1.13.1)\n",
      "Requirement already satisfied: mpmath<1.4,>=1.1.0 in /home/s5srinivasan/immune-foundational-model/.venv/lib/python3.9/site-packages (from sympy==1.13.1->torch>=2.0.0->accelerate) (1.3.0)\n",
      "Requirement already satisfied: array-api-compat!=1.5,>1.4 in /home/s5srinivasan/immune-foundational-model/.venv/lib/python3.9/site-packages (from anndata->cellxgene-census==1.15.0->PyTDC) (1.11.2)\n",
      "Requirement already satisfied: exceptiongroup in /home/s5srinivasan/immune-foundational-model/.venv/lib/python3.9/site-packages (from anndata->cellxgene-census==1.15.0->PyTDC) (1.2.2)\n",
      "Requirement already satisfied: h5py>=3.1 in /home/s5srinivasan/immune-foundational-model/.venv/lib/python3.9/site-packages (from anndata->cellxgene-census==1.15.0->PyTDC) (3.13.0)\n",
      "Requirement already satisfied: natsort in /home/s5srinivasan/immune-foundational-model/.venv/lib/python3.9/site-packages (from anndata->cellxgene-census==1.15.0->PyTDC) (8.4.0)\n",
      "Requirement already satisfied: soupsieve>1.2 in /home/s5srinivasan/immune-foundational-model/.venv/lib/python3.9/site-packages (from beautifulsoup4>=4.10.0->gget<1.0.0,>=0.28.4->PyTDC) (2.6)\n",
      "Requirement already satisfied: contourpy>=1.0.1 in /home/s5srinivasan/immune-foundational-model/.venv/lib/python3.9/site-packages (from matplotlib->gget<1.0.0,>=0.28.4->PyTDC) (1.3.0)\n",
      "Requirement already satisfied: cycler>=0.10 in /home/s5srinivasan/immune-foundational-model/.venv/lib/python3.9/site-packages (from matplotlib->gget<1.0.0,>=0.28.4->PyTDC) (0.12.1)\n",
      "Requirement already satisfied: fonttools>=4.22.0 in /home/s5srinivasan/immune-foundational-model/.venv/lib/python3.9/site-packages (from matplotlib->gget<1.0.0,>=0.28.4->PyTDC) (4.56.0)\n",
      "Requirement already satisfied: kiwisolver>=1.3.1 in /home/s5srinivasan/immune-foundational-model/.venv/lib/python3.9/site-packages (from matplotlib->gget<1.0.0,>=0.28.4->PyTDC) (1.4.7)\n",
      "Requirement already satisfied: pyparsing>=2.3.1 in /home/s5srinivasan/immune-foundational-model/.venv/lib/python3.9/site-packages (from matplotlib->gget<1.0.0,>=0.28.4->PyTDC) (3.2.3)\n",
      "Requirement already satisfied: importlib-resources>=3.2.0 in /home/s5srinivasan/immune-foundational-model/.venv/lib/python3.9/site-packages (from matplotlib->gget<1.0.0,>=0.28.4->PyTDC) (6.5.2)\n",
      "Requirement already satisfied: llvmlite<0.44,>=0.43.0dev0 in /home/s5srinivasan/immune-foundational-model/.venv/lib/python3.9/site-packages (from numba>=0.58.0->tiledbsoma<2.0.0,>=1.7.2->PyTDC) (0.43.0)\n",
      "Requirement already satisfied: six>=1.5 in /home/s5srinivasan/immune-foundational-model/.venv/lib/python3.9/site-packages (from python-dateutil>=2.8.2->pandas->datasets) (1.17.0)\n",
      "Requirement already satisfied: aiobotocore<3.0.0,>=2.5.4 in /home/s5srinivasan/immune-foundational-model/.venv/lib/python3.9/site-packages (from s3fs>=2021.06.1->cellxgene-census==1.15.0->PyTDC) (2.21.1)\n",
      "Requirement already satisfied: get-annotations in /home/s5srinivasan/immune-foundational-model/.venv/lib/python3.9/site-packages (from scanpy>=1.9.2->tiledbsoma<2.0.0,>=1.7.2->PyTDC) (0.1.2)\n",
      "Requirement already satisfied: legacy-api-wrap>=1.4 in /home/s5srinivasan/immune-foundational-model/.venv/lib/python3.9/site-packages (from scanpy>=1.9.2->tiledbsoma<2.0.0,>=1.7.2->PyTDC) (1.4.1)\n",
      "Requirement already satisfied: patsy in /home/s5srinivasan/immune-foundational-model/.venv/lib/python3.9/site-packages (from scanpy>=1.9.2->tiledbsoma<2.0.0,>=1.7.2->PyTDC) (1.0.1)\n",
      "Requirement already satisfied: pynndescent>=0.5 in /home/s5srinivasan/immune-foundational-model/.venv/lib/python3.9/site-packages (from scanpy>=1.9.2->tiledbsoma<2.0.0,>=1.7.2->PyTDC) (0.5.13)\n",
      "Requirement already satisfied: session-info in /home/s5srinivasan/immune-foundational-model/.venv/lib/python3.9/site-packages (from scanpy>=1.9.2->tiledbsoma<2.0.0,>=1.7.2->PyTDC) (1.0.0)\n",
      "Requirement already satisfied: statsmodels>=0.13 in /home/s5srinivasan/immune-foundational-model/.venv/lib/python3.9/site-packages (from scanpy>=1.9.2->tiledbsoma<2.0.0,>=1.7.2->PyTDC) (0.14.4)\n",
      "Requirement already satisfied: umap-learn!=0.5.0,>=0.5 in /home/s5srinivasan/immune-foundational-model/.venv/lib/python3.9/site-packages (from scanpy>=1.9.2->tiledbsoma<2.0.0,>=1.7.2->PyTDC) (0.5.7)\n",
      "Requirement already satisfied: decorator in /home/s5srinivasan/immune-foundational-model/.venv/lib/python3.9/site-packages (from ipython->gget<1.0.0,>=0.28.4->PyTDC) (5.2.1)\n",
      "Requirement already satisfied: jedi>=0.16 in /home/s5srinivasan/immune-foundational-model/.venv/lib/python3.9/site-packages (from ipython->gget<1.0.0,>=0.28.4->PyTDC) (0.19.2)\n",
      "Requirement already satisfied: matplotlib-inline in /home/s5srinivasan/immune-foundational-model/.venv/lib/python3.9/site-packages (from ipython->gget<1.0.0,>=0.28.4->PyTDC) (0.1.7)\n",
      "Requirement already satisfied: prompt-toolkit<3.1.0,>=3.0.41 in /home/s5srinivasan/immune-foundational-model/.venv/lib/python3.9/site-packages (from ipython->gget<1.0.0,>=0.28.4->PyTDC) (3.0.50)\n",
      "Requirement already satisfied: pygments>=2.4.0 in /home/s5srinivasan/immune-foundational-model/.venv/lib/python3.9/site-packages (from ipython->gget<1.0.0,>=0.28.4->PyTDC) (2.19.1)\n",
      "Requirement already satisfied: stack-data in /home/s5srinivasan/immune-foundational-model/.venv/lib/python3.9/site-packages (from ipython->gget<1.0.0,>=0.28.4->PyTDC) (0.6.3)\n",
      "Requirement already satisfied: traitlets>=5 in /home/s5srinivasan/immune-foundational-model/.venv/lib/python3.9/site-packages (from ipython->gget<1.0.0,>=0.28.4->PyTDC) (5.14.3)\n",
      "Requirement already satisfied: pexpect>4.3 in /home/s5srinivasan/immune-foundational-model/.venv/lib/python3.9/site-packages (from ipython->gget<1.0.0,>=0.28.4->PyTDC) (4.9.0)\n",
      "Requirement already satisfied: comm>=0.1.3 in /home/s5srinivasan/immune-foundational-model/.venv/lib/python3.9/site-packages (from ipywidgets->gget<1.0.0,>=0.28.4->PyTDC) (0.2.2)\n",
      "Requirement already satisfied: widgetsnbextension~=4.0.12 in /home/s5srinivasan/immune-foundational-model/.venv/lib/python3.9/site-packages (from ipywidgets->gget<1.0.0,>=0.28.4->PyTDC) (4.0.13)\n",
      "Requirement already satisfied: jupyterlab-widgets~=3.0.12 in /home/s5srinivasan/immune-foundational-model/.venv/lib/python3.9/site-packages (from ipywidgets->gget<1.0.0,>=0.28.4->PyTDC) (3.0.13)\n",
      "Requirement already satisfied: MarkupSafe>=2.0 in /home/s5srinivasan/immune-foundational-model/.venv/lib/python3.9/site-packages (from jinja2->torch>=2.0.0->accelerate) (3.0.2)\n",
      "Requirement already satisfied: aioitertools<1.0.0,>=0.5.1 in /home/s5srinivasan/immune-foundational-model/.venv/lib/python3.9/site-packages (from aiobotocore<3.0.0,>=2.5.4->s3fs>=2021.06.1->cellxgene-census==1.15.0->PyTDC) (0.12.0)\n",
      "Requirement already satisfied: botocore<1.37.2,>=1.37.0 in /home/s5srinivasan/immune-foundational-model/.venv/lib/python3.9/site-packages (from aiobotocore<3.0.0,>=2.5.4->s3fs>=2021.06.1->cellxgene-census==1.15.0->PyTDC) (1.37.1)\n",
      "Requirement already satisfied: jmespath<2.0.0,>=0.7.1 in /home/s5srinivasan/immune-foundational-model/.venv/lib/python3.9/site-packages (from aiobotocore<3.0.0,>=2.5.4->s3fs>=2021.06.1->cellxgene-census==1.15.0->PyTDC) (1.0.1)\n",
      "Requirement already satisfied: wrapt<2.0.0,>=1.10.10 in /home/s5srinivasan/immune-foundational-model/.venv/lib/python3.9/site-packages (from aiobotocore<3.0.0,>=2.5.4->s3fs>=2021.06.1->cellxgene-census==1.15.0->PyTDC) (1.17.2)\n",
      "Requirement already satisfied: zipp>=3.1.0 in /home/s5srinivasan/immune-foundational-model/.venv/lib/python3.9/site-packages (from importlib-resources>=3.2.0->matplotlib->gget<1.0.0,>=0.28.4->PyTDC) (3.21.0)\n",
      "Requirement already satisfied: parso<0.9.0,>=0.8.4 in /home/s5srinivasan/immune-foundational-model/.venv/lib/python3.9/site-packages (from jedi>=0.16->ipython->gget<1.0.0,>=0.28.4->PyTDC) (0.8.4)\n",
      "Requirement already satisfied: ptyprocess>=0.5 in /home/s5srinivasan/immune-foundational-model/.venv/lib/python3.9/site-packages (from pexpect>4.3->ipython->gget<1.0.0,>=0.28.4->PyTDC) (0.7.0)\n",
      "Requirement already satisfied: wcwidth in /home/s5srinivasan/immune-foundational-model/.venv/lib/python3.9/site-packages (from prompt-toolkit<3.1.0,>=3.0.41->ipython->gget<1.0.0,>=0.28.4->PyTDC) (0.2.13)\n",
      "Requirement already satisfied: stdlib_list in /home/s5srinivasan/immune-foundational-model/.venv/lib/python3.9/site-packages (from session-info->scanpy>=1.9.2->tiledbsoma<2.0.0,>=1.7.2->PyTDC) (0.11.1)\n",
      "Requirement already satisfied: executing>=1.2.0 in /home/s5srinivasan/immune-foundational-model/.venv/lib/python3.9/site-packages (from stack-data->ipython->gget<1.0.0,>=0.28.4->PyTDC) (2.2.0)\n",
      "Requirement already satisfied: asttokens>=2.1.0 in /home/s5srinivasan/immune-foundational-model/.venv/lib/python3.9/site-packages (from stack-data->ipython->gget<1.0.0,>=0.28.4->PyTDC) (3.0.0)\n",
      "Requirement already satisfied: pure-eval in /home/s5srinivasan/immune-foundational-model/.venv/lib/python3.9/site-packages (from stack-data->ipython->gget<1.0.0,>=0.28.4->PyTDC) (0.2.3)\n",
      "Using cached transformers-4.50.3-py3-none-any.whl (10.2 MB)\n",
      "Installing collected packages: transformers\n",
      "  Attempting uninstall: transformers\n",
      "    Found existing installation: transformers 4.51.0.dev0\n",
      "    Uninstalling transformers-4.51.0.dev0:\n",
      "      Successfully uninstalled transformers-4.51.0.dev0\n",
      "Successfully installed transformers-4.50.3\n"
     ]
    }
   ],
   "source": [
    "!pip install --upgrade transformers accelerate peft datasets PyTDC"
   ]
  },
  {
   "cell_type": "code",
   "execution_count": 1,
   "metadata": {},
   "outputs": [
    {
     "name": "stdout",
     "output_type": "stream",
     "text": [
      "Transformers version: 4.50.3\n",
      "Accelerate version: 0.33.0\n",
      "PEFT version: 0.15.1\n",
      "Datasets version: 2.19.2\n"
     ]
    }
   ],
   "source": [
    "# HF imports \n",
    "import transformers\n",
    "import accelerate\n",
    "import peft\n",
    "import datasets\n",
    "\n",
    "import scanpy as sc\n",
    "\n",
    "# TDC Imports\n",
    "from tdc.multi_pred.anndata_dataset import DataLoader\n",
    "from tdc import tdc_hf_interface\n",
    "from tdc.model_server.tokenizers.scgpt import scGPTTokenizer\n",
    "from tdc.model_server.models import scgpt\n",
    "\n",
    "import torch\n",
    "import numpy as np\n",
    "\n",
    "\n",
    "print(f\"Transformers version: {transformers.__version__}\")\n",
    "print(f\"Accelerate version: {accelerate.__version__}\")\n",
    "print(f\"PEFT version: {peft.__version__}\")\n",
    "print(f\"Datasets version: {datasets.__version__}\")\n",
    "# print(f\"TDC version: {tdc.__version__\")"
   ]
  },
  {
   "cell_type": "markdown",
   "metadata": {},
   "source": [
    "## Step 1: Load data - "
   ]
  },
  {
   "cell_type": "code",
   "execution_count": 2,
   "metadata": {},
   "outputs": [],
   "source": [
    "data_path = \"../data/peft_test/\"\n",
    "\n",
    "adata = sc.read_h5ad(data_path+\"c_data.h5ad\")\n",
    "# del adata.uns[\"log1p\"]\n",
    "\n",
    "# Normalize and log1p — don't do HVG or batch correction\n",
    "## ALREADY DONE FOR MULTIPLE SCLEROSIS DATA\n",
    "# sc.pp.normalize_total(adata, target_sum=1e4)\n",
    "# sc.pp.log1p(adata)\n",
    "\n",
    "# # # Ensure dense matrix\n",
    "adata.X = adata.X.toarray()\n",
    "\n",
    "# # # Get gene names and expression matrix\n",
    "gene_names = adata.var[\"gene_name\"].to_numpy() \n",
    "X = adata.X"
   ]
  },
  {
   "cell_type": "code",
   "execution_count": 3,
   "metadata": {},
   "outputs": [
    {
     "name": "stderr",
     "output_type": "stream",
     "text": [
      "Found local copy...\n"
     ]
    }
   ],
   "source": [
    "# Load model\n",
    "from tdc.model_server.tokenizers.scgpt import scGPTTokenizer\n",
    "\n",
    "tokenizer = scGPTTokenizer()\n",
    "tokenized_data = tokenizer.tokenize_cell_vectors(X, gene_names)  # Returns list of (gene_ids, values)"
   ]
  },
  {
   "cell_type": "code",
   "execution_count": 4,
   "metadata": {},
   "outputs": [
    {
     "name": "stdout",
     "output_type": "stream",
     "text": [
      "trainable params: 147,456 || all params: 50,951,681 || trainable%: 0.2894\n"
     ]
    }
   ],
   "source": [
    "from tdc import tdc_hf_interface\n",
    "from peft import get_peft_model, LoraConfig, TaskType\n",
    "\n",
    "# Load pretrained scGPT model\n",
    "scgpt = tdc_hf_interface(\"scGPT\")\n",
    "base_model = scgpt.load()\n",
    "\n",
    "# Wrap with LoRA (only Q and V projections usually)\n",
    "lora_config = LoraConfig(\n",
    "    r=4,\n",
    "    lora_alpha=16,\n",
    "    target_modules=[\"self_attn\"],  # You may need to adapt based on scGPT architecture\n",
    "    lora_dropout=0.1,\n",
    "    bias=\"none\",\n",
    "    task_type=TaskType.FEATURE_EXTRACTION\n",
    ")\n",
    "model = get_peft_model(base_model, lora_config)\n",
    "model.print_trainable_parameters()"
   ]
  },
  {
   "cell_type": "code",
   "execution_count": 5,
   "metadata": {},
   "outputs": [
    {
     "name": "stdout",
     "output_type": "stream",
     "text": [
      "ScGPTModel(\n",
      "  (gene_encoder): ModuleDict(\n",
      "    (embedding): Embedding(60697, 512, padding_idx=0)\n",
      "    (enc_norm): LayerNorm((512,), eps=1e-05, elementwise_affine=True)\n",
      "  )\n",
      "  (value_encoder): ModuleDict(\n",
      "    (linear1): Linear(in_features=1, out_features=512, bias=True)\n",
      "    (linear2): Linear(in_features=512, out_features=512, bias=True)\n",
      "    (norm): LayerNorm((512,), eps=1e-05, elementwise_affine=True)\n",
      "    (dropout): Dropout(p=0.0, inplace=False)\n",
      "  )\n",
      "  (transformer): TransformerEncoder(\n",
      "    (layers): ModuleList(\n",
      "      (0-11): 12 x TransformerEncoderLayer(\n",
      "        (self_attn): lora.MultiheadAttention(\n",
      "          (base_layer): MultiheadAttention(\n",
      "            (out_proj): lora.Linear(\n",
      "              (base_layer): NonDynamicallyQuantizableLinear(in_features=512, out_features=512, bias=True)\n",
      "              (lora_dropout): ModuleDict(\n",
      "                (default): Dropout(p=0.1, inplace=False)\n",
      "              )\n",
      "              (lora_A): ModuleDict(\n",
      "                (default): Linear(in_features=512, out_features=4, bias=False)\n",
      "              )\n",
      "              (lora_B): ModuleDict(\n",
      "                (default): Linear(in_features=4, out_features=512, bias=False)\n",
      "              )\n",
      "              (lora_embedding_A): ParameterDict()\n",
      "              (lora_embedding_B): ParameterDict()\n",
      "              (lora_magnitude_vector): ModuleDict()\n",
      "            )\n",
      "          )\n",
      "          (lora_dropout): ModuleDict(\n",
      "            (default): Dropout(p=0.1, inplace=False)\n",
      "          )\n",
      "          (lora_A): ModuleDict(\n",
      "            (default): Linear(in_features=512, out_features=4, bias=False)\n",
      "          )\n",
      "          (lora_B): ModuleDict(\n",
      "            (default): Linear(in_features=4, out_features=1536, bias=False)\n",
      "          )\n",
      "          (lora_embedding_A): ParameterDict()\n",
      "          (lora_embedding_B): ParameterDict()\n",
      "          (lora_magnitude_vector): ModuleDict()\n",
      "        )\n",
      "        (linear1): Linear(in_features=512, out_features=512, bias=True)\n",
      "        (dropout): Dropout(p=0.0, inplace=False)\n",
      "        (linear2): Linear(in_features=512, out_features=512, bias=True)\n",
      "        (norm1): LayerNorm((512,), eps=1e-05, elementwise_affine=True)\n",
      "        (norm2): LayerNorm((512,), eps=1e-05, elementwise_affine=True)\n",
      "        (dropout1): Dropout(p=0.0, inplace=False)\n",
      "        (dropout2): Dropout(p=0.0, inplace=False)\n",
      "      )\n",
      "    )\n",
      "  )\n",
      "  (expr_decoder): ExprDecoder(\n",
      "    (fc): Sequential(\n",
      "      (0): Linear(in_features=512, out_features=512, bias=True)\n",
      "      (1): LeakyReLU(negative_slope=0.01)\n",
      "      (2): Linear(in_features=512, out_features=512, bias=True)\n",
      "      (3): LeakyReLU(negative_slope=0.01)\n",
      "      (4): Linear(in_features=512, out_features=1, bias=True)\n",
      "    )\n",
      "  )\n",
      ")\n"
     ]
    }
   ],
   "source": [
    "print(base_model)"
   ]
  },
  {
   "cell_type": "code",
   "execution_count": 6,
   "metadata": {},
   "outputs": [],
   "source": [
    "import torch.nn as nn\n",
    "\n",
    "class CellTypeClassifier(nn.Module):\n",
    "    def __init__(self, base_model, hidden_dim, num_classes):\n",
    "        super().__init__()\n",
    "        self.base_model = base_model\n",
    "        self.classifier = nn.Linear(hidden_dim, num_classes)\n",
    "\n",
    "    def forward(self, gene_ids, expr_vals, attention_mask=None):\n",
    "        output = self.base_model.model(\n",
    "            input_ids=gene_ids,\n",
    "            values=expr_vals,\n",
    "            attention_mask=attention_mask,\n",
    "            output_cell_emb=True  # 🔑 make sure this is True!\n",
    "        )\n",
    "\n",
    "        # Extract the pooled cell embedding\n",
    "        pooled = output[\"cell_emb\"]  # shape: [batch_size, hidden_dim]\n",
    "        return self.classifier(pooled)\n",
    "    \n",
    "from sklearn.preprocessing import LabelEncoder\n",
    "import torch\n",
    "\n",
    "# Encode your cell types\n",
    "label_encoder = LabelEncoder()\n",
    "labels = label_encoder.fit_transform(adata.obs[\"celltype\"])\n",
    "labels = torch.tensor(labels)\n",
    "\n",
    "clf_model = CellTypeClassifier(model, hidden_dim=base_model.config.d_hid, num_classes=len(label_encoder.classes_))"
   ]
  },
  {
   "cell_type": "code",
   "execution_count": 7,
   "metadata": {},
   "outputs": [
    {
     "data": {
      "text/plain": [
       "device(type='cpu')"
      ]
     },
     "execution_count": 7,
     "metadata": {},
     "output_type": "execute_result"
    }
   ],
   "source": [
    "next(clf_model.parameters()).device"
   ]
  },
  {
   "cell_type": "code",
   "execution_count": 9,
   "metadata": {},
   "outputs": [
    {
     "data": {
      "text/plain": [
       "device(type='cuda', index=0)"
      ]
     },
     "execution_count": 9,
     "metadata": {},
     "output_type": "execute_result"
    }
   ],
   "source": [
    "device = torch.device(\"cuda\" if torch.cuda.is_available() else \"cpu\")\n",
    "clf_model = clf_model.to(device)\n",
    "next(clf_model.parameters()).device"
   ]
  },
  {
   "cell_type": "code",
   "execution_count": 51,
   "metadata": {},
   "outputs": [
    {
     "name": "stdout",
     "output_type": "stream",
     "text": [
      "Epoch 1 average loss: 1.9543\n",
      "Epoch 2 average loss: 1.9486\n",
      "Epoch 3 average loss: 1.9460\n",
      "Epoch 4 average loss: 1.9458\n"
     ]
    },
    {
     "ename": "KeyboardInterrupt",
     "evalue": "",
     "output_type": "error",
     "traceback": [
      "\u001b[0;31m---------------------------------------------------------------------------\u001b[0m",
      "\u001b[0;31mKeyboardInterrupt\u001b[0m                         Traceback (most recent call last)",
      "Cell \u001b[0;32mIn[51], line 25\u001b[0m\n\u001b[1;32m     20\u001b[0m \u001b[38;5;66;03m# print(\"Raw logits:\", pred)\u001b[39;00m\n\u001b[1;32m     21\u001b[0m \u001b[38;5;66;03m# print(\"Logits shape:\", pred.shape)\u001b[39;00m\n\u001b[1;32m     22\u001b[0m \u001b[38;5;66;03m# print(\"Max logit:\", pred.max().item())\u001b[39;00m\n\u001b[1;32m     23\u001b[0m \u001b[38;5;66;03m# print(\"Min logit:\", pred.min().item())\u001b[39;00m\n\u001b[1;32m     24\u001b[0m loss \u001b[38;5;241m=\u001b[39m loss_fn(pred, label)\n\u001b[0;32m---> 25\u001b[0m \u001b[43mloss\u001b[49m\u001b[38;5;241;43m.\u001b[39;49m\u001b[43mbackward\u001b[49m\u001b[43m(\u001b[49m\u001b[43m)\u001b[49m\n\u001b[1;32m     26\u001b[0m optimizer\u001b[38;5;241m.\u001b[39mstep()\n\u001b[1;32m     28\u001b[0m total_loss \u001b[38;5;241m+\u001b[39m\u001b[38;5;241m=\u001b[39m loss\u001b[38;5;241m.\u001b[39mitem()\n",
      "File \u001b[0;32m~/immune-foundational-model/.venv/lib64/python3.9/site-packages/torch/_tensor.py:626\u001b[0m, in \u001b[0;36mTensor.backward\u001b[0;34m(self, gradient, retain_graph, create_graph, inputs)\u001b[0m\n\u001b[1;32m    616\u001b[0m \u001b[38;5;28;01mif\u001b[39;00m has_torch_function_unary(\u001b[38;5;28mself\u001b[39m):\n\u001b[1;32m    617\u001b[0m     \u001b[38;5;28;01mreturn\u001b[39;00m handle_torch_function(\n\u001b[1;32m    618\u001b[0m         Tensor\u001b[38;5;241m.\u001b[39mbackward,\n\u001b[1;32m    619\u001b[0m         (\u001b[38;5;28mself\u001b[39m,),\n\u001b[0;32m   (...)\u001b[0m\n\u001b[1;32m    624\u001b[0m         inputs\u001b[38;5;241m=\u001b[39minputs,\n\u001b[1;32m    625\u001b[0m     )\n\u001b[0;32m--> 626\u001b[0m \u001b[43mtorch\u001b[49m\u001b[38;5;241;43m.\u001b[39;49m\u001b[43mautograd\u001b[49m\u001b[38;5;241;43m.\u001b[39;49m\u001b[43mbackward\u001b[49m\u001b[43m(\u001b[49m\n\u001b[1;32m    627\u001b[0m \u001b[43m    \u001b[49m\u001b[38;5;28;43mself\u001b[39;49m\u001b[43m,\u001b[49m\u001b[43m \u001b[49m\u001b[43mgradient\u001b[49m\u001b[43m,\u001b[49m\u001b[43m \u001b[49m\u001b[43mretain_graph\u001b[49m\u001b[43m,\u001b[49m\u001b[43m \u001b[49m\u001b[43mcreate_graph\u001b[49m\u001b[43m,\u001b[49m\u001b[43m \u001b[49m\u001b[43minputs\u001b[49m\u001b[38;5;241;43m=\u001b[39;49m\u001b[43minputs\u001b[49m\n\u001b[1;32m    628\u001b[0m \u001b[43m\u001b[49m\u001b[43m)\u001b[49m\n",
      "File \u001b[0;32m~/immune-foundational-model/.venv/lib64/python3.9/site-packages/torch/autograd/__init__.py:347\u001b[0m, in \u001b[0;36mbackward\u001b[0;34m(tensors, grad_tensors, retain_graph, create_graph, grad_variables, inputs)\u001b[0m\n\u001b[1;32m    342\u001b[0m     retain_graph \u001b[38;5;241m=\u001b[39m create_graph\n\u001b[1;32m    344\u001b[0m \u001b[38;5;66;03m# The reason we repeat the same comment below is that\u001b[39;00m\n\u001b[1;32m    345\u001b[0m \u001b[38;5;66;03m# some Python versions print out the first line of a multi-line function\u001b[39;00m\n\u001b[1;32m    346\u001b[0m \u001b[38;5;66;03m# calls in the traceback and some print out the last line\u001b[39;00m\n\u001b[0;32m--> 347\u001b[0m \u001b[43m_engine_run_backward\u001b[49m\u001b[43m(\u001b[49m\n\u001b[1;32m    348\u001b[0m \u001b[43m    \u001b[49m\u001b[43mtensors\u001b[49m\u001b[43m,\u001b[49m\n\u001b[1;32m    349\u001b[0m \u001b[43m    \u001b[49m\u001b[43mgrad_tensors_\u001b[49m\u001b[43m,\u001b[49m\n\u001b[1;32m    350\u001b[0m \u001b[43m    \u001b[49m\u001b[43mretain_graph\u001b[49m\u001b[43m,\u001b[49m\n\u001b[1;32m    351\u001b[0m \u001b[43m    \u001b[49m\u001b[43mcreate_graph\u001b[49m\u001b[43m,\u001b[49m\n\u001b[1;32m    352\u001b[0m \u001b[43m    \u001b[49m\u001b[43minputs\u001b[49m\u001b[43m,\u001b[49m\n\u001b[1;32m    353\u001b[0m \u001b[43m    \u001b[49m\u001b[43mallow_unreachable\u001b[49m\u001b[38;5;241;43m=\u001b[39;49m\u001b[38;5;28;43;01mTrue\u001b[39;49;00m\u001b[43m,\u001b[49m\n\u001b[1;32m    354\u001b[0m \u001b[43m    \u001b[49m\u001b[43maccumulate_grad\u001b[49m\u001b[38;5;241;43m=\u001b[39;49m\u001b[38;5;28;43;01mTrue\u001b[39;49;00m\u001b[43m,\u001b[49m\n\u001b[1;32m    355\u001b[0m \u001b[43m\u001b[49m\u001b[43m)\u001b[49m\n",
      "File \u001b[0;32m~/immune-foundational-model/.venv/lib64/python3.9/site-packages/torch/autograd/graph.py:823\u001b[0m, in \u001b[0;36m_engine_run_backward\u001b[0;34m(t_outputs, *args, **kwargs)\u001b[0m\n\u001b[1;32m    821\u001b[0m     unregister_hooks \u001b[38;5;241m=\u001b[39m _register_logging_hooks_on_whole_graph(t_outputs)\n\u001b[1;32m    822\u001b[0m \u001b[38;5;28;01mtry\u001b[39;00m:\n\u001b[0;32m--> 823\u001b[0m     \u001b[38;5;28;01mreturn\u001b[39;00m \u001b[43mVariable\u001b[49m\u001b[38;5;241;43m.\u001b[39;49m\u001b[43m_execution_engine\u001b[49m\u001b[38;5;241;43m.\u001b[39;49m\u001b[43mrun_backward\u001b[49m\u001b[43m(\u001b[49m\u001b[43m  \u001b[49m\u001b[38;5;66;43;03m# Calls into the C++ engine to run the backward pass\u001b[39;49;00m\n\u001b[1;32m    824\u001b[0m \u001b[43m        \u001b[49m\u001b[43mt_outputs\u001b[49m\u001b[43m,\u001b[49m\u001b[43m \u001b[49m\u001b[38;5;241;43m*\u001b[39;49m\u001b[43margs\u001b[49m\u001b[43m,\u001b[49m\u001b[43m \u001b[49m\u001b[38;5;241;43m*\u001b[39;49m\u001b[38;5;241;43m*\u001b[39;49m\u001b[43mkwargs\u001b[49m\n\u001b[1;32m    825\u001b[0m \u001b[43m    \u001b[49m\u001b[43m)\u001b[49m  \u001b[38;5;66;03m# Calls into the C++ engine to run the backward pass\u001b[39;00m\n\u001b[1;32m    826\u001b[0m \u001b[38;5;28;01mfinally\u001b[39;00m:\n\u001b[1;32m    827\u001b[0m     \u001b[38;5;28;01mif\u001b[39;00m attach_logging_hooks:\n",
      "\u001b[0;31mKeyboardInterrupt\u001b[0m: "
     ]
    }
   ],
   "source": [
    "import torch.optim as optim\n",
    "import torch.nn as nn\n",
    "\n",
    "optimizer = optim.Adam(clf_model.parameters(), lr=1e-4)\n",
    "loss_fn = nn.CrossEntropyLoss()\n",
    "\n",
    "clf_model.train()\n",
    "for epoch in range(5):\n",
    "    total_loss = 0\n",
    "    for i, (gene_ids, expr_vals) in enumerate(tokenized_data):\n",
    "        mask = expr_vals != 0\n",
    "        label = labels[i].unsqueeze(0).to(device)\n",
    "\n",
    "        optimizer.zero_grad()\n",
    "        pred = clf_model(\n",
    "            gene_ids.unsqueeze(0).to(device),\n",
    "            expr_vals.unsqueeze(0).to(device),\n",
    "            attention_mask=mask.unsqueeze(0).to(device)\n",
    "        )\n",
    "        # print(\"Raw logits:\", pred)\n",
    "        # print(\"Logits shape:\", pred.shape)\n",
    "        # print(\"Max logit:\", pred.max().item())\n",
    "        # print(\"Min logit:\", pred.min().item())\n",
    "        loss = loss_fn(pred, label)\n",
    "        loss.backward()\n",
    "        optimizer.step()\n",
    "\n",
    "        total_loss += loss.item()\n",
    "    avg_loss = total_loss / len(tokenized_data)\n",
    "    print(f\"Epoch {epoch+1} average loss: {avg_loss:.4f}\")"
   ]
  },
  {
   "cell_type": "code",
   "execution_count": 40,
   "metadata": {},
   "outputs": [
    {
     "data": {
      "text/plain": [
       "AnnData object with n_obs × n_vars = 13468 × 3000\n",
       "    obs: 'Sample Characteristic[organism]', 'Sample Characteristic Ontology Term[organism]', 'Sample Characteristic[individual]', 'Sample Characteristic Ontology Term[individual]', 'Sample Characteristic[sex]', 'Sample Characteristic Ontology Term[sex]', 'Sample Characteristic[age]', 'Sample Characteristic Ontology Term[age]', 'Sample Characteristic[developmental stage]', 'Sample Characteristic Ontology Term[developmental stage]', 'Sample Characteristic[organism part]', 'Sample Characteristic Ontology Term[organism part]', 'Sample Characteristic[sampling site]', 'Sample Characteristic Ontology Term[sampling site]', 'Sample Characteristic[disease]', 'Sample Characteristic Ontology Term[disease]', 'Sample Characteristic[organism status]', 'Sample Characteristic Ontology Term[organism status]', 'Sample Characteristic[cause of death]', 'Sample Characteristic Ontology Term[cause of death]', 'Sample Characteristic[clinical history]', 'Sample Characteristic Ontology Term[clinical history]', 'Factor Value[disease]', 'Factor Value Ontology Term[disease]', 'Factor Value[sampling site]', 'Factor Value Ontology Term[sampling site]', 'Factor Value[inferred cell type - ontology labels]', 'Factor Value Ontology Term[inferred cell type - ontology labels]', 'Factor Value[inferred cell type - authors labels]', 'Factor Value Ontology Term[inferred cell type - authors labels]', 'str_batch', 'celltype'\n",
       "    var: 'index_column', 'gene_name'\n",
       "    uns: 'log1p', 'neighbors', 'umap'\n",
       "    obsm: 'X_pca', 'X_umap'\n",
       "    obsp: 'connectivities', 'distances'"
      ]
     },
     "execution_count": 40,
     "metadata": {},
     "output_type": "execute_result"
    }
   ],
   "source": [
    "adata"
   ]
  },
  {
   "cell_type": "code",
   "execution_count": 35,
   "metadata": {},
   "outputs": [
    {
     "name": "stdout",
     "output_type": "stream",
     "text": [
      "Pred shape: torch.Size([1, 18]), Label shape: torch.Size([1])\n"
     ]
    }
   ],
   "source": [
    "print(f\"Pred shape: {pred.shape}, Label shape: {label.shape}\")"
   ]
  },
  {
   "cell_type": "code",
   "execution_count": 37,
   "metadata": {},
   "outputs": [
    {
     "name": "stdout",
     "output_type": "stream",
     "text": [
      "Probabilities: tensor([[0.0942, 0.0150, 0.0367, 0.1111, 0.1349, 0.0040, 0.2483, 0.1395, 0.0614,\n",
      "         0.0064, 0.0040, 0.0101, 0.0182, 0.0139, 0.0033, 0.0420, 0.0025, 0.0547]],\n",
      "       device='cuda:0', grad_fn=<SoftmaxBackward0>)\n"
     ]
    }
   ],
   "source": [
    "probs = torch.softmax(pred, dim=1)\n",
    "print(\"Probabilities:\", probs)"
   ]
  },
  {
   "cell_type": "code",
   "execution_count": 8,
   "metadata": {},
   "outputs": [
    {
     "name": "stdout",
     "output_type": "stream",
     "text": [
      "\n",
      "        Args:\n",
      "            input_ids: Tensor of gene indices, shape [batch_size, seq_len]\n",
      "            values: Tensor of expression values, shape [batch_size, seq_len]\n",
      "            attention_mask: Optional mask tensor, shape [batch_size, seq_len]\n",
      "            output_cell_emb: Whether to output cell embeddings\n",
      "\n",
      "        Returns:\n",
      "            Dictionary containing:\n",
      "                - 'pred': Predicted expression values\n",
      "                - 'cell_emb': Cell embeddings (if output_cell_emb=True)\n",
      "                - 'zero_probs': Zero probabilities (if config.explicit_zero_prob=True)\n",
      "        \n"
     ]
    }
   ],
   "source": [
    "print(base_model.forward.__doc__)"
   ]
  },
  {
   "cell_type": "code",
   "execution_count": 38,
   "metadata": {},
   "outputs": [
    {
     "name": "stdout",
     "output_type": "stream",
     "text": [
      "Label: tensor([4], device='cuda:0')\n",
      "Shape: torch.Size([1])\n",
      "Dtype: torch.int64\n"
     ]
    }
   ],
   "source": [
    "print(\"Label:\", label)\n",
    "print(\"Shape:\", label.shape)\n",
    "print(\"Dtype:\", label.dtype)"
   ]
  },
  {
   "cell_type": "code",
   "execution_count": 79,
   "metadata": {},
   "outputs": [
    {
     "name": "stdout",
     "output_type": "stream",
     "text": [
      "ScGPTModel(\n",
      "  (gene_encoder): ModuleDict(\n",
      "    (embedding): Embedding(60697, 512, padding_idx=0)\n",
      "    (enc_norm): LayerNorm((512,), eps=1e-05, elementwise_affine=True)\n",
      "  )\n",
      "  (value_encoder): ModuleDict(\n",
      "    (linear1): Linear(in_features=1, out_features=512, bias=True)\n",
      "    (linear2): Linear(in_features=512, out_features=512, bias=True)\n",
      "    (norm): LayerNorm((512,), eps=1e-05, elementwise_affine=True)\n",
      "    (dropout): Dropout(p=0.0, inplace=False)\n",
      "  )\n",
      "  (transformer): TransformerEncoder(\n",
      "    (layers): ModuleList(\n",
      "      (0-11): 12 x TransformerEncoderLayer(\n",
      "        (self_attn): MultiheadAttention(\n",
      "          (out_proj): NonDynamicallyQuantizableLinear(in_features=512, out_features=512, bias=True)\n",
      "        )\n",
      "        (linear1): Linear(in_features=512, out_features=512, bias=True)\n",
      "        (dropout): Dropout(p=0.0, inplace=False)\n",
      "        (linear2): Linear(in_features=512, out_features=512, bias=True)\n",
      "        (norm1): LayerNorm((512,), eps=1e-05, elementwise_affine=True)\n",
      "        (norm2): LayerNorm((512,), eps=1e-05, elementwise_affine=True)\n",
      "        (dropout1): Dropout(p=0.0, inplace=False)\n",
      "        (dropout2): Dropout(p=0.0, inplace=False)\n",
      "      )\n",
      "    )\n",
      "  )\n",
      "  (expr_decoder): ExprDecoder(\n",
      "    (fc): Sequential(\n",
      "      (0): Linear(in_features=512, out_features=512, bias=True)\n",
      "      (1): LeakyReLU(negative_slope=0.01)\n",
      "      (2): Linear(in_features=512, out_features=512, bias=True)\n",
      "      (3): LeakyReLU(negative_slope=0.01)\n",
      "      (4): Linear(in_features=512, out_features=1, bias=True)\n",
      "    )\n",
      "  )\n",
      ")\n"
     ]
    }
   ],
   "source": [
    "print(base_model)"
   ]
  }
 ],
 "metadata": {
  "kernelspec": {
   "display_name": ".venv",
   "language": "python",
   "name": "python3"
  },
  "language_info": {
   "codemirror_mode": {
    "name": "ipython",
    "version": 3
   },
   "file_extension": ".py",
   "mimetype": "text/x-python",
   "name": "python",
   "nbconvert_exporter": "python",
   "pygments_lexer": "ipython3",
   "version": "3.9.21"
  }
 },
 "nbformat": 4,
 "nbformat_minor": 2
}
