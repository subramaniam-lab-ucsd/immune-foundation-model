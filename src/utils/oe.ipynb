{
 "cells": [
  {
   "cell_type": "code",
   "execution_count": 1,
   "id": "39eb2c8a",
   "metadata": {},
   "outputs": [
    {
     "ename": "NameError",
     "evalue": "name 'load_ontology_graph' is not defined",
     "output_type": "error",
     "traceback": [
      "\u001b[0;31m---------------------------------------------------------------------------\u001b[0m",
      "\u001b[0;31mNameError\u001b[0m                                 Traceback (most recent call last)",
      "Cell \u001b[0;32mIn[1], line 1\u001b[0m\n\u001b[0;32m----> 1\u001b[0m doid_graph \u001b[38;5;241m=\u001b[39m \u001b[43mload_ontology_graph\u001b[49m(obo_folder\u001b[38;5;241m=\u001b[39m\u001b[38;5;124m\"\u001b[39m\u001b[38;5;124mobo/\u001b[39m\u001b[38;5;124m\"\u001b[39m, ontology_name\u001b[38;5;241m=\u001b[39m\u001b[38;5;124m\"\u001b[39m\u001b[38;5;124mdoid\u001b[39m\u001b[38;5;124m\"\u001b[39m)\n\u001b[1;32m      2\u001b[0m doid_model \u001b[38;5;241m=\u001b[39m make_node2vec_model(doid_graph, dimensions\u001b[38;5;241m=\u001b[39m\u001b[38;5;241m64\u001b[39m, workers\u001b[38;5;241m=\u001b[39m\u001b[38;5;241m4\u001b[39m, batch_words\u001b[38;5;241m=\u001b[39m\u001b[38;5;241m256\u001b[39m)\n",
      "\u001b[0;31mNameError\u001b[0m: name 'load_ontology_graph' is not defined"
     ]
    }
   ],
   "source": [
    "doid_graph = load_ontology_graph(obo_folder=\"obo/\", ontology_name=\"doid\")\n",
    "doid_model = make_node2vec_model(doid_graph, dimensions=64, workers=4, batch_words=256)"
   ]
  },
  {
   "cell_type": "code",
   "execution_count": null,
   "id": "17808be8",
   "metadata": {},
   "outputs": [
    {
     "ename": "TypeError",
     "evalue": "'Word2Vec' object is not iterable",
     "output_type": "error",
     "traceback": [
      "\u001b[0;31m---------------------------------------------------------------------------\u001b[0m",
      "\u001b[0;31mTypeError\u001b[0m                                 Traceback (most recent call last)",
      "Cell \u001b[0;32mIn[42], line 1\u001b[0m\n\u001b[0;32m----> 1\u001b[0m \u001b[38;5;28;01mfor\u001b[39;00m i \u001b[38;5;129;01min\u001b[39;00m doid_model:\n\u001b[1;32m      2\u001b[0m     \u001b[38;5;28mprint\u001b[39m(i)\n\u001b[1;32m      3\u001b[0m       \u001b[38;5;66;03m# covid_embedding = doid_model.wv['influenza']  # shape: (64,)\u001b[39;00m\n\u001b[1;32m      4\u001b[0m \u001b[38;5;66;03m# print(covid_embedding)\u001b[39;00m\n",
      "\u001b[0;31mTypeError\u001b[0m: 'Word2Vec' object is not iterable"
     ]
    }
   ],
   "source": [
    "      # covid_embedding = doid_model.wv['influenza']  # shape: (64,)\n",
    "# print(covid_embedding)"
   ]
  },
  {
   "cell_type": "code",
   "execution_count": null,
   "id": "75c90601",
   "metadata": {},
   "outputs": [],
   "source": [
    "from node2vec import Node2Vec\n",
    "\n",
    "def make_node2vec_model(graph, dimensions=64, walk_length=30, num_walks=200, workers=4, window=10, min_count=1, batch_words=4):\n",
    "    \"\"\"\n",
    "    Fit a Node2Vec model to the given graph and return the trained model.\n",
    "\n",
    "    Parameters\n",
    "    ----------\n",
    "    graph : networkx.Graph or MultiDiGraph\n",
    "        The ontology graph.\n",
    "    dimensions : int\n",
    "        Embedding dimensions (default: 64).\n",
    "    walk_length : int\n",
    "        Length of each random walk (default: 30).\n",
    "    num_walks : int\n",
    "        Number of walks per node (default: 200).\n",
    "    workers : int\n",
    "        Number of worker threads (default: 4).\n",
    "    window : int\n",
    "        Window size for Word2Vec (default: 10).\n",
    "    min_count : int\n",
    "        Minimum count for Word2Vec (default: 1).\n",
    "    batch_words : int\n",
    "        Batch size for Word2Vec (default: 4).\n",
    "\n",
    "    Returns\n",
    "    -------\n",
    "    model : gensim.models.Word2Vec\n",
    "        Trained Node2Vec model.\n",
    "    \"\"\"\n",
    "    node2vec = Node2Vec(\n",
    "        graph,\n",
    "        dimensions=dimensions,\n",
    "        walk_length=walk_length,\n",
    "        num_walks=num_walks,\n",
    "        workers=workers\n",
    "    )\n",
    "    model = node2vec.fit(window=window, min_count=min_count, batch_words=batch_words)\n",
    "    return model\n",
    "\n"
   ]
  },
  {
   "cell_type": "markdown",
   "id": "6619cacc",
   "metadata": {},
   "source": [
    "`"
   ]
  },
  {
   "cell_type": "code",
   "execution_count": 3,
   "id": "8d28f363",
   "metadata": {},
   "outputs": [
    {
     "name": "stderr",
     "output_type": "stream",
     "text": [
      "/home/s5srinivasan/immunegptenv/lib64/python3.9/site-packages/networkx/utils/backends.py:135: RuntimeWarning: networkx backend defined more than once: nx-loopback\n",
      "  backends.update(_get_backends(\"networkx.backends\"))\n"
     ]
    }
   ],
   "source": [
    "import os\n",
    "import obonet\n",
    "\n",
    "def load_ontology_graph(obo_folder, ontology_name):\n",
    "    \"\"\"\n",
    "    Load an ontology graph from an OBO file using obonet.\n",
    "\n",
    "    Parameters\n",
    "    ----------\n",
    "    obo_folder : str\n",
    "        Path to the folder containing OBO files.\n",
    "    ontology_name : str\n",
    "        Name of the ontology file (without extension), e.g., 'cl' for 'cl.obo'.\n",
    "\n",
    "    Returns\n",
    "    -------\n",
    "    networkx.MultiDiGraph\n",
    "        The ontology graph loaded from the OBO file.\n",
    "    \"\"\"\n",
    "    obo_path = os.path.join(obo_folder, f\"{ontology_name}.obo\")\n",
    "    if not os.path.isfile(obo_path):\n",
    "        raise FileNotFoundError(f\"OBO file not found: {obo_path}\")\n",
    "    graph = obonet.read_obo(obo_path)\n",
    "    return graph"
   ]
  },
  {
   "cell_type": "code",
   "execution_count": 4,
   "id": "d6431a8f",
   "metadata": {},
   "outputs": [],
   "source": [
    "cl_graph = load_ontology_graph(obo_folder=\"obo/\", ontology_name=\"cl\")"
   ]
  }
 ],
 "metadata": {
  "kernelspec": {
   "display_name": "immunegptenv",
   "language": "python",
   "name": "python3"
  },
  "language_info": {
   "codemirror_mode": {
    "name": "ipython",
    "version": 3
   },
   "file_extension": ".py",
   "mimetype": "text/x-python",
   "name": "python",
   "nbconvert_exporter": "python",
   "pygments_lexer": "ipython3",
   "version": "3.9.21"
  }
 },
 "nbformat": 4,
 "nbformat_minor": 5
}
