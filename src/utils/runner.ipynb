{
 "cells": [
  {
   "cell_type": "code",
   "execution_count": 3,
   "id": "39eb2c8a",
   "metadata": {},
   "outputs": [],
   "source": [
    "from ontology_models import *"
   ]
  },
  {
   "cell_type": "code",
   "execution_count": 14,
   "id": "1c3f1444",
   "metadata": {},
   "outputs": [
    {
     "data": {
      "application/vnd.jupyter.widget-view+json": {
       "model_id": "a3bf5710bf18424bb6b46534658c606f",
       "version_major": 2,
       "version_minor": 0
      },
      "text/plain": [
       "Computing transition probabilities:   0%|          | 0/11895 [00:00<?, ?it/s]"
      ]
     },
     "metadata": {},
     "output_type": "display_data"
    },
    {
     "name": "stderr",
     "output_type": "stream",
     "text": [
      "/home/s5srinivasan/immunegptenv/lib64/python3.9/site-packages/networkx/utils/backends.py:135: RuntimeWarning: networkx backend defined more than once: nx-loopback\n",
      "  backends.update(_get_backends(\"networkx.backends\"))\n",
      "Generating walks (CPU: 1):   0%|          | 0/50 [00:00<?, ?it/s]/home/s5srinivasan/immunegptenv/lib64/python3.9/site-packages/networkx/utils/backends.py:135: RuntimeWarning: networkx backend defined more than once: nx-loopback\n",
      "  backends.update(_get_backends(\"networkx.backends\"))\n",
      "Generating walks (CPU: 1):   6%|▌         | 3/50 [00:00<00:07,  6.07it/s]/home/s5srinivasan/immunegptenv/lib64/python3.9/site-packages/networkx/utils/backends.py:135: RuntimeWarning: networkx backend defined more than once: nx-loopback\n",
      "  backends.update(_get_backends(\"networkx.backends\"))\n",
      "Generating walks (CPU: 1):  10%|█         | 5/50 [00:00<00:08,  5.29it/s]/home/s5srinivasan/immunegptenv/lib64/python3.9/site-packages/networkx/utils/backends.py:135: RuntimeWarning: networkx backend defined more than once: nx-loopback\n",
      "  backends.update(_get_backends(\"networkx.backends\"))\n",
      "Generating walks (CPU: 1): 100%|██████████| 50/50 [00:10<00:00,  4.89it/s]\n",
      "Generating walks (CPU: 2): 100%|██████████| 50/50 [00:10<00:00,  4.93it/s]\n",
      "Generating walks (CPU: 3): 100%|██████████| 50/50 [00:10<00:00,  4.89it/s]\n",
      "Generating walks (CPU: 4): 100%|██████████| 50/50 [00:10<00:00,  4.85it/s]\n"
     ]
    },
    {
     "data": {
      "application/vnd.jupyter.widget-view+json": {
       "model_id": "0cf8e8dbc95d43fbbab968cba343fb36",
       "version_major": 2,
       "version_minor": 0
      },
      "text/plain": [
       "Computing transition probabilities:   0%|          | 0/17053 [00:00<?, ?it/s]"
      ]
     },
     "metadata": {},
     "output_type": "display_data"
    },
    {
     "name": "stderr",
     "output_type": "stream",
     "text": [
      "Generating walks (CPU: 1): 100%|██████████| 50/50 [00:20<00:00,  2.50it/s]\n",
      "Generating walks (CPU: 2): 100%|██████████| 50/50 [00:19<00:00,  2.54it/s]\n",
      "Generating walks (CPU: 3): 100%|██████████| 50/50 [00:19<00:00,  2.52it/s]\n",
      "Generating walks (CPU: 4): 100%|██████████| 50/50 [00:19<00:00,  2.56it/s]\n"
     ]
    },
    {
     "data": {
      "application/vnd.jupyter.widget-view+json": {
       "model_id": "ff62613e6d72478b95113414332e0f91",
       "version_major": 2,
       "version_minor": 0
      },
      "text/plain": [
       "Computing transition probabilities:   0%|          | 0/40122 [00:00<?, ?it/s]"
      ]
     },
     "metadata": {},
     "output_type": "display_data"
    },
    {
     "name": "stderr",
     "output_type": "stream",
     "text": [
      "/home/s5srinivasan/immunegptenv/lib64/python3.9/site-packages/networkx/utils/backends.py:135: RuntimeWarning: networkx backend defined more than once: nx-loopback\n",
      "  backends.update(_get_backends(\"networkx.backends\"))\n",
      "Generating walks (CPU: 1):   4%|▍         | 2/50 [00:00<00:17,  2.70it/s]/home/s5srinivasan/immunegptenv/lib64/python3.9/site-packages/networkx/utils/backends.py:135: RuntimeWarning: networkx backend defined more than once: nx-loopback\n",
      "  backends.update(_get_backends(\"networkx.backends\"))\n",
      "Generating walks (CPU: 2):   4%|▍         | 2/50 [00:00<00:18,  2.66it/s]/home/s5srinivasan/immunegptenv/lib64/python3.9/site-packages/networkx/utils/backends.py:135: RuntimeWarning: networkx backend defined more than once: nx-loopback\n",
      "  backends.update(_get_backends(\"networkx.backends\"))\n",
      "Generating walks (CPU: 2):   8%|▊         | 4/50 [00:02<00:29,  1.55it/s]/home/s5srinivasan/immunegptenv/lib64/python3.9/site-packages/networkx/utils/backends.py:135: RuntimeWarning: networkx backend defined more than once: nx-loopback\n",
      "  backends.update(_get_backends(\"networkx.backends\"))\n",
      "Generating walks (CPU: 1): 100%|██████████| 50/50 [00:38<00:00,  1.28it/s]\n",
      "Generating walks (CPU: 2): 100%|██████████| 50/50 [00:38<00:00,  1.30it/s]\n",
      "Generating walks (CPU: 3): 100%|██████████| 50/50 [00:39<00:00,  1.26it/s]\n",
      "Generating walks (CPU: 4): 100%|██████████| 50/50 [00:39<00:00,  1.26it/s]\n"
     ]
    },
    {
     "data": {
      "application/vnd.jupyter.widget-view+json": {
       "model_id": "c5520f650271417abba4ecad928f1272",
       "version_major": 2,
       "version_minor": 0
      },
      "text/plain": [
       "Computing transition probabilities:   0%|          | 0/1235 [00:00<?, ?it/s]"
      ]
     },
     "metadata": {},
     "output_type": "display_data"
    },
    {
     "name": "stderr",
     "output_type": "stream",
     "text": [
      "/home/s5srinivasan/immunegptenv/lib64/python3.9/site-packages/networkx/utils/backends.py:135: RuntimeWarning: networkx backend defined more than once: nx-loopback\n",
      "  backends.update(_get_backends(\"networkx.backends\"))\n",
      "/home/s5srinivasan/immunegptenv/lib64/python3.9/site-packages/networkx/utils/backends.py:135: RuntimeWarning: networkx backend defined more than once: nx-loopback\n",
      "  backends.update(_get_backends(\"networkx.backends\"))\n",
      "Generating walks (CPU: 1):   0%|          | 0/50 [00:00<?, ?it/s]/home/s5srinivasan/immunegptenv/lib64/python3.9/site-packages/networkx/utils/backends.py:135: RuntimeWarning: networkx backend defined more than once: nx-loopback\n",
      "  backends.update(_get_backends(\"networkx.backends\"))\n",
      "Generating walks (CPU: 1):  10%|█         | 5/50 [00:00<00:01, 39.28it/s]/home/s5srinivasan/immunegptenv/lib64/python3.9/site-packages/networkx/utils/backends.py:135: RuntimeWarning: networkx backend defined more than once: nx-loopback\n",
      "  backends.update(_get_backends(\"networkx.backends\"))\n",
      "Generating walks (CPU: 1): 100%|██████████| 50/50 [00:01<00:00, 31.00it/s]\n",
      "Generating walks (CPU: 2): 100%|██████████| 50/50 [00:01<00:00, 31.19it/s]\n",
      "Generating walks (CPU: 3): 100%|██████████| 50/50 [00:01<00:00, 31.05it/s]\n",
      "Generating walks (CPU: 4): 100%|██████████| 50/50 [00:01<00:00, 31.07it/s]\n"
     ]
    },
    {
     "data": {
      "application/vnd.jupyter.widget-view+json": {
       "model_id": "5546d9d35d57412394ec1bd734766a8d",
       "version_major": 2,
       "version_minor": 0
      },
      "text/plain": [
       "Computing transition probabilities:   0%|          | 0/239 [00:00<?, ?it/s]"
      ]
     },
     "metadata": {},
     "output_type": "display_data"
    },
    {
     "name": "stderr",
     "output_type": "stream",
     "text": [
      "Generating walks (CPU: 1): 100%|██████████| 50/50 [00:00<00:00, 499.44it/s]\n",
      "Generating walks (CPU: 2): 100%|██████████| 50/50 [00:00<00:00, 505.97it/s]\n",
      "Generating walks (CPU: 3): 100%|██████████| 50/50 [00:00<00:00, 503.55it/s]\n",
      "Generating walks (CPU: 4): 100%|██████████| 50/50 [00:00<00:00, 509.57it/s]\n"
     ]
    },
    {
     "data": {
      "application/vnd.jupyter.widget-view+json": {
       "model_id": "6ec3359656d74a4bbc47fdb838a91c9f",
       "version_major": 2,
       "version_minor": 0
      },
      "text/plain": [
       "Computing transition probabilities:   0%|          | 0/25504 [00:00<?, ?it/s]"
      ]
     },
     "metadata": {},
     "output_type": "display_data"
    },
    {
     "name": "stderr",
     "output_type": "stream",
     "text": [
      "Generating walks (CPU: 1): 100%|██████████| 50/50 [00:45<00:00,  1.09it/s]\n",
      "Generating walks (CPU: 2): 100%|██████████| 50/50 [00:46<00:00,  1.07it/s]\n",
      "Generating walks (CPU: 3): 100%|██████████| 50/50 [00:46<00:00,  1.07it/s]\n",
      "Generating walks (CPU: 4): 100%|██████████| 50/50 [00:46<00:00,  1.07it/s]\n"
     ]
    }
   ],
   "source": [
    "ontologies = ['doid', 'cl', 'go', 'hancestro', 'hsapdv', 'uberon']\n",
    "\n",
    "for ontology in ontologies:\n",
    "    ograph = load_ontology_graph(obo_folder=\"obo_files/\", ontology_name=ontology)\n",
    "    n2vmodel = make_node2vec_model(ograph,dimensions=512, workers=4, batch_words=256)\n",
    "    n2vmodel.save(f\"obo_models/{ontology}_node2vec.model\")"
   ]
  },
  {
   "cell_type": "markdown",
   "id": "6619cacc",
   "metadata": {},
   "source": [
    "`"
   ]
  }
 ],
 "metadata": {
  "kernelspec": {
   "display_name": "immunegptenv",
   "language": "python",
   "name": "python3"
  },
  "language_info": {
   "codemirror_mode": {
    "name": "ipython",
    "version": 3
   },
   "file_extension": ".py",
   "mimetype": "text/x-python",
   "name": "python",
   "nbconvert_exporter": "python",
   "pygments_lexer": "ipython3",
   "version": "3.9.21"
  }
 },
 "nbformat": 4,
 "nbformat_minor": 5
}
