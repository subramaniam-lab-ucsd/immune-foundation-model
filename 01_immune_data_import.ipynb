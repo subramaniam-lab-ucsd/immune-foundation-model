{
 "cells": [
  {
   "cell_type": "code",
   "execution_count": 52,
   "metadata": {},
   "outputs": [],
   "source": [
    "import cellxgene_census\n",
    "import pandas as pd\n",
    "import scanpy as sc"
   ]
  },
  {
   "cell_type": "markdown",
   "metadata": {},
   "source": [
    "## Creating a census object\n",
    "Testing out if:\n",
    "1. the Census object is generated\n",
    "2. checking the data sources"
   ]
  },
  {
   "cell_type": "code",
   "execution_count": 60,
   "metadata": {},
   "outputs": [
    {
     "name": "stdout",
     "output_type": "stream",
     "text": [
      "<Collection 's3://cellxgene-census-public-us-west-2/cell-census/2025-03-24/soma/' (open for 'r') (3 items)\n",
      "    'census_data': 's3://cellxgene-census-public-us-west-2/cell-census/2025-03-24/soma/census_data' (unopened)\n",
      "    'census_info': 's3://cellxgene-census-public-us-west-2/cell-census/2025-03-24/soma/census_info' (unopened)\n",
      "    'census_spatial_sequencing': 's3://cellxgene-census-public-us-west-2/cell-census/2025-03-24/soma/census_spatial_sequencing' (unopened)>\n"
     ]
    }
   ],
   "source": [
    "census = cellxgene_census.open_soma(census_version=\"latest\")\n",
    "print(census)"
   ]
  },
  {
   "cell_type": "markdown",
   "metadata": {},
   "source": [
    "## Sample query\n",
    "\n",
    "The function to get h5ad files is ```get_anndata()```. Note that this obtains only raw counts by default, and when the h5ad is printed out, it provides no indication of other layers (such as normalised counts) being present.\n",
    "\n",
    "Include normalized and raw counts like so:\n",
    "```X_layers=['raw','normalized'],```"
   ]
  },
  {
   "cell_type": "code",
   "execution_count": 78,
   "metadata": {},
   "outputs": [],
   "source": [
    "adata = cellxgene_census.get_anndata(\n",
    "    census=census,\n",
    "    organism=\"Homo sapiens\",\n",
    "    X_layers=['raw','normalized'],\n",
    "    var_value_filter=\"feature_id in ['ENSG00000161798']\",\n",
    "    obs_value_filter=\"cell_type == 'B cell' and tissue_general == 'lung' and disease == 'COVID-19' and is_primary_data == True\",\n",
    "    obs_column_names=[\"sex\"],\n",
    ")"
   ]
  },
  {
   "cell_type": "code",
   "execution_count": 89,
   "metadata": {},
   "outputs": [],
   "source": [
    "normalized = adata.layers['normalized']\n",
    "raw = adata.X\n",
    "df = pd.DataFrame(normalized.toarray())\n",
    "df2 = pd.DataFrame(raw.toarray())"
   ]
  },
  {
   "cell_type": "code",
   "execution_count": 87,
   "metadata": {},
   "outputs": [
    {
     "name": "stdout",
     "output_type": "stream",
     "text": [
      "             0\n",
      "4799  0.000000\n",
      "4813  0.000000\n",
      "4812  0.000000\n",
      "4811  0.000000\n",
      "4810  0.000000\n",
      "...        ...\n",
      "3656  0.000551\n",
      "827   0.000674\n",
      "1441  0.000748\n",
      "1676  0.000842\n",
      "4464  0.000890\n",
      "\n",
      "[7202 rows x 1 columns]\n"
     ]
    }
   ],
   "source": [
    "print(df.sort_values(by=[0]))"
   ]
  },
  {
   "cell_type": "code",
   "execution_count": 54,
   "metadata": {},
   "outputs": [
    {
     "name": "stdout",
     "output_type": "stream",
     "text": [
      "        0    1\n",
      "0     0.0  0.0\n",
      "1     0.0  0.0\n",
      "2     0.0  0.0\n",
      "3     0.0  0.0\n",
      "4     0.0  0.0\n",
      "...   ...  ...\n",
      "7197  0.0  0.0\n",
      "7198  0.0  0.0\n",
      "7199  0.0  0.0\n",
      "7200  1.0  0.0\n",
      "7201  1.0  0.0\n",
      "\n",
      "[7202 rows x 2 columns]\n"
     ]
    }
   ],
   "source": [
    "df = pd.DataFrame(adata.X.toarray())\n",
    "print(df)"
   ]
  },
  {
   "cell_type": "code",
   "execution_count": null,
   "metadata": {},
   "outputs": [
    {
     "ename": "AttributeError",
     "evalue": "'csr_matrix' object has no attribute 'maxprint'",
     "output_type": "error",
     "traceback": [
      "\u001b[0;31m---------------------------------------------------------------------------\u001b[0m",
      "\u001b[0;31mAttributeError\u001b[0m                            Traceback (most recent call last)",
      "Cell \u001b[0;32mIn[51], line 1\u001b[0m\n\u001b[0;32m----> 1\u001b[0m \u001b[38;5;28;43mprint\u001b[39;49m\u001b[43m(\u001b[49m\u001b[43madata\u001b[49m\u001b[38;5;241;43m.\u001b[39;49m\u001b[43mX\u001b[49m\u001b[43m)\u001b[49m\n",
      "File \u001b[0;32m~/immune-foundational-model/.venv/lib64/python3.9/site-packages/scipy/sparse/_base.py:372\u001b[0m, in \u001b[0;36m_spbase.__str__\u001b[0;34m(self)\u001b[0m\n\u001b[1;32m    371\u001b[0m \u001b[38;5;28;01mdef\u001b[39;00m\u001b[38;5;250m \u001b[39m\u001b[38;5;21m__str__\u001b[39m(\u001b[38;5;28mself\u001b[39m):\n\u001b[0;32m--> 372\u001b[0m     maxprint \u001b[38;5;241m=\u001b[39m \u001b[38;5;28;43mself\u001b[39;49m\u001b[38;5;241;43m.\u001b[39;49m\u001b[43m_getmaxprint\u001b[49m\u001b[43m(\u001b[49m\u001b[43m)\u001b[49m\n\u001b[1;32m    374\u001b[0m     A \u001b[38;5;241m=\u001b[39m \u001b[38;5;28mself\u001b[39m\u001b[38;5;241m.\u001b[39mtocoo()\n\u001b[1;32m    376\u001b[0m     \u001b[38;5;66;03m# helper function, outputs \"(i,j)  v\"\u001b[39;00m\n",
      "File \u001b[0;32m~/immune-foundational-model/.venv/lib64/python3.9/site-packages/scipy/sparse/_base.py:264\u001b[0m, in \u001b[0;36m_spbase._getmaxprint\u001b[0;34m(self)\u001b[0m\n\u001b[1;32m    262\u001b[0m \u001b[38;5;28;01mdef\u001b[39;00m\u001b[38;5;250m \u001b[39m\u001b[38;5;21m_getmaxprint\u001b[39m(\u001b[38;5;28mself\u001b[39m):\n\u001b[1;32m    263\u001b[0m \u001b[38;5;250m    \u001b[39m\u001b[38;5;124;03m\"\"\"Maximum number of elements to display when printed.\"\"\"\u001b[39;00m\n\u001b[0;32m--> 264\u001b[0m     \u001b[38;5;28;01mreturn\u001b[39;00m \u001b[38;5;28;43mself\u001b[39;49m\u001b[38;5;241;43m.\u001b[39;49m\u001b[43mmaxprint\u001b[49m\n",
      "\u001b[0;31mAttributeError\u001b[0m: 'csr_matrix' object has no attribute 'maxprint'"
     ]
    }
   ],
   "source": [
    "adata.X.toarray()"
   ]
  }
 ],
 "metadata": {
  "kernelspec": {
   "display_name": ".venv",
   "language": "python",
   "name": "python3"
  },
  "language_info": {
   "codemirror_mode": {
    "name": "ipython",
    "version": 3
   },
   "file_extension": ".py",
   "mimetype": "text/x-python",
   "name": "python",
   "nbconvert_exporter": "python",
   "pygments_lexer": "ipython3",
   "version": "3.9.21"
  }
 },
 "nbformat": 4,
 "nbformat_minor": 2
}
